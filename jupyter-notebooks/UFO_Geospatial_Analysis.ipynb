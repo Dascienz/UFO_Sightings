{
 "cells": [
  {
   "cell_type": "code",
   "execution_count": 1,
   "metadata": {},
   "outputs": [],
   "source": [
    "import os\n",
    "import sys\n",
    "import numpy as np\n",
    "import pandas as pd\n",
    "import geopandas as gpd\n",
    "import scipy.stats as stats\n",
    "from datetime import datetime\n",
    "import matplotlib.pyplot as plt"
   ]
  },
  {
   "cell_type": "code",
   "execution_count": 2,
   "metadata": {},
   "outputs": [
    {
     "name": "stdout",
     "output_type": "stream",
     "text": [
      "3.6.6 |Anaconda custom (64-bit)| (default, Jun 28 2018, 11:27:44) [MSC v.1900 64 bit (AMD64)]\n"
     ]
    }
   ],
   "source": [
    "print(sys.version)"
   ]
  },
  {
   "cell_type": "code",
   "execution_count": 3,
   "metadata": {},
   "outputs": [],
   "source": [
    "parent = os.path.dirname(os.getcwd())\n",
    "ufo = pd.read_pickle(parent + '/data/cleaned_nuforc_reports_07202018.pkl') #UFO SIGHTINGS\n",
    "airport = pd.read_csv(parent + '/data/airportData.csv') #AIRPORT LOCATIONS\n",
    "military = pd.read_csv(parent + '/data/militaryData.csv') #MILITARY BASE LOCATIONS"
   ]
  },
  {
   "cell_type": "code",
   "execution_count": 4,
   "metadata": {},
   "outputs": [
    {
     "data": {
      "text/html": [
       "<div>\n",
       "<table border=\"1\" class=\"dataframe\">\n",
       "  <thead>\n",
       "    <tr style=\"text-align: right;\">\n",
       "      <th></th>\n",
       "      <th>Occurred</th>\n",
       "      <th>Reported</th>\n",
       "      <th>Posted</th>\n",
       "      <th>Location</th>\n",
       "      <th>Shape</th>\n",
       "      <th>Duration</th>\n",
       "      <th>Report</th>\n",
       "      <th>Sighting Time</th>\n",
       "      <th>Report Time</th>\n",
       "      <th>Latitude</th>\n",
       "      <th>Longitude</th>\n",
       "      <th>Shape Categories Revised</th>\n",
       "    </tr>\n",
       "  </thead>\n",
       "  <tbody>\n",
       "    <tr>\n",
       "      <th>0</th>\n",
       "      <td>1996-06-24 00:30:00</td>\n",
       "      <td>1996-06-26 12:42:00</td>\n",
       "      <td>1999-11-02</td>\n",
       "      <td>Aurora, CO</td>\n",
       "      <td>Changing</td>\n",
       "      <td>1 hour</td>\n",
       "      <td>Referred to Marilyn Childs to call CO state di...</td>\n",
       "      <td>00:30</td>\n",
       "      <td>12:42</td>\n",
       "      <td>39.729432</td>\n",
       "      <td>-104.831920</td>\n",
       "      <td>[Changing]</td>\n",
       "    </tr>\n",
       "    <tr>\n",
       "      <th>1</th>\n",
       "      <td>NaT</td>\n",
       "      <td>2006-03-21 12:11:00</td>\n",
       "      <td>2006-05-15</td>\n",
       "      <td>Bristol, PA</td>\n",
       "      <td>Light</td>\n",
       "      <td>About 1 min.</td>\n",
       "      <td>Hi, I am an avid sky watcher and usually I not...</td>\n",
       "      <td>NaN</td>\n",
       "      <td>12:11</td>\n",
       "      <td>40.100666</td>\n",
       "      <td>-74.851831</td>\n",
       "      <td>[Light]</td>\n",
       "    </tr>\n",
       "    <tr>\n",
       "      <th>2</th>\n",
       "      <td>2018-10-21 00:45:00</td>\n",
       "      <td>2015-05-16 00:34:00</td>\n",
       "      <td>2015-05-22</td>\n",
       "      <td>Saskatoon (Canada), SK</td>\n",
       "      <td>Light</td>\n",
       "      <td>2 minutes</td>\n",
       "      <td>We seemed to know to look up and and for me it...</td>\n",
       "      <td>00:45</td>\n",
       "      <td>12:34</td>\n",
       "      <td>52.157331</td>\n",
       "      <td>-106.529930</td>\n",
       "      <td>[Light, Circle]</td>\n",
       "    </tr>\n",
       "    <tr>\n",
       "      <th>3</th>\n",
       "      <td>2018-10-21 01:00:00</td>\n",
       "      <td>2001-10-21 11:50:00</td>\n",
       "      <td>2001-11-20</td>\n",
       "      <td>Dublin</td>\n",
       "      <td>Light</td>\n",
       "      <td>a few seconds</td>\n",
       "      <td>A ball of light, lighting up my pitch dark roo...</td>\n",
       "      <td>01:00</td>\n",
       "      <td>11:50</td>\n",
       "      <td>53.349764</td>\n",
       "      <td>-6.260273</td>\n",
       "      <td>[Light]</td>\n",
       "    </tr>\n",
       "    <tr>\n",
       "      <th>4</th>\n",
       "      <td>2018-10-21 01:00:00</td>\n",
       "      <td>1999-09-02 09:52:00</td>\n",
       "      <td>2003-02-05</td>\n",
       "      <td>Careywood &amp; Bayview, ID</td>\n",
       "      <td>Light</td>\n",
       "      <td>few minutes</td>\n",
       "      <td>Ball of light similiar to reported \"Earht Ligh...</td>\n",
       "      <td>01:00</td>\n",
       "      <td>09:52</td>\n",
       "      <td>NaN</td>\n",
       "      <td>NaN</td>\n",
       "      <td>[Light]</td>\n",
       "    </tr>\n",
       "  </tbody>\n",
       "</table>\n",
       "</div>"
      ],
      "text/plain": [
       "             Occurred            Reported     Posted                 Location  \\\n",
       "0 1996-06-24 00:30:00 1996-06-26 12:42:00 1999-11-02               Aurora, CO   \n",
       "1                 NaT 2006-03-21 12:11:00 2006-05-15              Bristol, PA   \n",
       "2 2018-10-21 00:45:00 2015-05-16 00:34:00 2015-05-22   Saskatoon (Canada), SK   \n",
       "3 2018-10-21 01:00:00 2001-10-21 11:50:00 2001-11-20                  Dublin    \n",
       "4 2018-10-21 01:00:00 1999-09-02 09:52:00 2003-02-05  Careywood & Bayview, ID   \n",
       "\n",
       "      Shape       Duration                                             Report  \\\n",
       "0  Changing         1 hour  Referred to Marilyn Childs to call CO state di...   \n",
       "1     Light   About 1 min.  Hi, I am an avid sky watcher and usually I not...   \n",
       "2     Light      2 minutes  We seemed to know to look up and and for me it...   \n",
       "3     Light  a few seconds  A ball of light, lighting up my pitch dark roo...   \n",
       "4     Light    few minutes  Ball of light similiar to reported \"Earht Ligh...   \n",
       "\n",
       "  Sighting Time Report Time   Latitude   Longitude Shape Categories Revised  \n",
       "0         00:30       12:42  39.729432 -104.831920               [Changing]  \n",
       "1           NaN       12:11  40.100666  -74.851831                  [Light]  \n",
       "2         00:45       12:34  52.157331 -106.529930          [Light, Circle]  \n",
       "3         01:00       11:50  53.349764   -6.260273                  [Light]  \n",
       "4         01:00       09:52        NaN         NaN                  [Light]  "
      ]
     },
     "execution_count": 4,
     "metadata": {},
     "output_type": "execute_result"
    }
   ],
   "source": [
    "ufo.head()"
   ]
  },
  {
   "cell_type": "code",
   "execution_count": 18,
   "metadata": {},
   "outputs": [],
   "source": [
    "#DROP UFO FEATURE COLUMNS WE WON'T BE USING IN THIS NOTEBOOK.\n",
    "ufo = ufo.drop(['Report','Shape Categories Revised','Duration'], axis=1)"
   ]
  },
  {
   "cell_type": "code",
   "execution_count": 19,
   "metadata": {},
   "outputs": [
    {
     "data": {
      "text/html": [
       "<div>\n",
       "<table border=\"1\" class=\"dataframe\">\n",
       "  <thead>\n",
       "    <tr style=\"text-align: right;\">\n",
       "      <th></th>\n",
       "      <th>Type</th>\n",
       "      <th>City</th>\n",
       "      <th>StateName</th>\n",
       "      <th>ARPLatitude</th>\n",
       "      <th>ARPLatitudeS</th>\n",
       "      <th>ARPLongitude</th>\n",
       "      <th>ARPLongitudeS</th>\n",
       "      <th>ActiviationDate</th>\n",
       "    </tr>\n",
       "  </thead>\n",
       "  <tbody>\n",
       "    <tr>\n",
       "      <th>0</th>\n",
       "      <td>AIRPORT</td>\n",
       "      <td>ADAK ISLAND</td>\n",
       "      <td>ALASKA</td>\n",
       "      <td>51-53-00.8954N</td>\n",
       "      <td>186780.8954N</td>\n",
       "      <td>176-38-32.9277W</td>\n",
       "      <td>635912.9277W</td>\n",
       "      <td>04/01/1949</td>\n",
       "    </tr>\n",
       "    <tr>\n",
       "      <th>1</th>\n",
       "      <td>AIRPORT</td>\n",
       "      <td>AKHIOK</td>\n",
       "      <td>ALASKA</td>\n",
       "      <td>56-56-19.2870N</td>\n",
       "      <td>204979.2870N</td>\n",
       "      <td>154-10-57.2000W</td>\n",
       "      <td>555057.2000W</td>\n",
       "      <td>11/01/1979</td>\n",
       "    </tr>\n",
       "    <tr>\n",
       "      <th>2</th>\n",
       "      <td>AIRPORT</td>\n",
       "      <td>AKIACHAK</td>\n",
       "      <td>ALASKA</td>\n",
       "      <td>60-54-49.7150N</td>\n",
       "      <td>219289.7150N</td>\n",
       "      <td>161-29-35.9850W</td>\n",
       "      <td>581375.9850W</td>\n",
       "      <td>01/01/1968</td>\n",
       "    </tr>\n",
       "    <tr>\n",
       "      <th>3</th>\n",
       "      <td>SEAPLANE BASE</td>\n",
       "      <td>AKIACHAK</td>\n",
       "      <td>ALASKA</td>\n",
       "      <td>60-54-28.3130N</td>\n",
       "      <td>219268.3130N</td>\n",
       "      <td>161-26-06.2780W</td>\n",
       "      <td>581166.2780W</td>\n",
       "      <td>07/01/1966</td>\n",
       "    </tr>\n",
       "    <tr>\n",
       "      <th>4</th>\n",
       "      <td>AIRPORT</td>\n",
       "      <td>AKIAK</td>\n",
       "      <td>ALASKA</td>\n",
       "      <td>60-54-10.4300N</td>\n",
       "      <td>219250.4300N</td>\n",
       "      <td>161-13-50.1000W</td>\n",
       "      <td>580430.1000W</td>\n",
       "      <td>07/01/1966</td>\n",
       "    </tr>\n",
       "  </tbody>\n",
       "</table>\n",
       "</div>"
      ],
      "text/plain": [
       "            Type         City StateName     ARPLatitude  ARPLatitudeS  \\\n",
       "0        AIRPORT  ADAK ISLAND    ALASKA  51-53-00.8954N  186780.8954N   \n",
       "1        AIRPORT       AKHIOK    ALASKA  56-56-19.2870N  204979.2870N   \n",
       "2        AIRPORT     AKIACHAK    ALASKA  60-54-49.7150N  219289.7150N   \n",
       "3  SEAPLANE BASE     AKIACHAK    ALASKA  60-54-28.3130N  219268.3130N   \n",
       "4        AIRPORT        AKIAK    ALASKA  60-54-10.4300N  219250.4300N   \n",
       "\n",
       "      ARPLongitude ARPLongitudeS ActiviationDate  \n",
       "0  176-38-32.9277W  635912.9277W      04/01/1949  \n",
       "1  154-10-57.2000W  555057.2000W      11/01/1979  \n",
       "2  161-29-35.9850W  581375.9850W      01/01/1968  \n",
       "3  161-26-06.2780W  581166.2780W      07/01/1966  \n",
       "4  161-13-50.1000W  580430.1000W      07/01/1966  "
      ]
     },
     "execution_count": 19,
     "metadata": {},
     "output_type": "execute_result"
    }
   ],
   "source": [
    "airport.head()"
   ]
  },
  {
   "cell_type": "code",
   "execution_count": 20,
   "metadata": {},
   "outputs": [],
   "source": [
    "def convert_tude(tude):\n",
    "    multiplier = 1 if tude[-1] in ['N','E'] else -1\n",
    "    return multiplier * np.sum(np.float(x)/(60**n) for n,x in enumerate(tude[:-1].split('-')))"
   ]
  },
  {
   "cell_type": "code",
   "execution_count": 21,
   "metadata": {},
   "outputs": [],
   "source": [
    "#DROP NULL, RESET INDEX\n",
    "airport = airport.dropna().reset_index(drop=True)\n",
    "\n",
    "#CONVERT L-TUDE VALUES \n",
    "airport['Lon'] = airport['ARPLongitude'].apply(convert_tude)\n",
    "airport['Lat'] = airport['ARPLatitude'].apply(convert_tude)\n",
    "\n",
    "#CONVERT ACTIVATION DATES AND FILTER DATAFRAME ACCORDINGLY\n",
    "airport['ActivationDate'] = pd.to_datetime(airport['ActiviationDate'].astype('str'), errors='coerce')\n",
    "airport = airport[airport['ActivationDate'] >= pd.Timestamp('1950-01-01')]\n",
    "\n",
    "#SLICE DATAFRAME FOR RELEVANT INFORMATION\n",
    "airport = airport[['StateName','Lon','Lat','ActivationDate']]"
   ]
  },
  {
   "cell_type": "code",
   "execution_count": 22,
   "metadata": {},
   "outputs": [
    {
     "data": {
      "text/html": [
       "<div>\n",
       "<table border=\"1\" class=\"dataframe\">\n",
       "  <thead>\n",
       "    <tr style=\"text-align: right;\">\n",
       "      <th></th>\n",
       "      <th>name</th>\n",
       "      <th>longitude</th>\n",
       "      <th>latitude</th>\n",
       "    </tr>\n",
       "  </thead>\n",
       "  <tbody>\n",
       "    <tr>\n",
       "      <th>0</th>\n",
       "      <td>Sierra Army Depot</td>\n",
       "      <td>-120.152620</td>\n",
       "      <td>40.266163</td>\n",
       "    </tr>\n",
       "    <tr>\n",
       "      <th>1</th>\n",
       "      <td>Fort Derussy, Hale Koa Hotel</td>\n",
       "      <td>-157.835044</td>\n",
       "      <td>21.282099</td>\n",
       "    </tr>\n",
       "    <tr>\n",
       "      <th>2</th>\n",
       "      <td>USCG Air Station Barbers Point (E,H)</td>\n",
       "      <td>-158.069899</td>\n",
       "      <td>21.300353</td>\n",
       "    </tr>\n",
       "    <tr>\n",
       "      <th>3</th>\n",
       "      <td>USCG Base Support Unit Honolulu (E,F)</td>\n",
       "      <td>-157.874273</td>\n",
       "      <td>21.305771</td>\n",
       "    </tr>\n",
       "    <tr>\n",
       "      <th>4</th>\n",
       "      <td>Hickam AFB (E,C,F,H)</td>\n",
       "      <td>-157.944116</td>\n",
       "      <td>21.340868</td>\n",
       "    </tr>\n",
       "  </tbody>\n",
       "</table>\n",
       "</div>"
      ],
      "text/plain": [
       "                                    name   longitude   latitude\n",
       "0                      Sierra Army Depot -120.152620  40.266163\n",
       "1           Fort Derussy, Hale Koa Hotel -157.835044  21.282099\n",
       "2   USCG Air Station Barbers Point (E,H) -158.069899  21.300353\n",
       "3  USCG Base Support Unit Honolulu (E,F) -157.874273  21.305771\n",
       "4                   Hickam AFB (E,C,F,H) -157.944116  21.340868"
      ]
     },
     "execution_count": 22,
     "metadata": {},
     "output_type": "execute_result"
    }
   ],
   "source": [
    "military.head()"
   ]
  },
  {
   "cell_type": "code",
   "execution_count": null,
   "metadata": {},
   "outputs": [],
   "source": []
  }
 ],
 "metadata": {
  "kernelspec": {
   "display_name": "Python 3",
   "language": "python",
   "name": "python3"
  },
  "language_info": {
   "codemirror_mode": {
    "name": "ipython",
    "version": 3
   },
   "file_extension": ".py",
   "mimetype": "text/x-python",
   "name": "python",
   "nbconvert_exporter": "python",
   "pygments_lexer": "ipython3",
   "version": "3.6.6"
  }
 },
 "nbformat": 4,
 "nbformat_minor": 2
}
