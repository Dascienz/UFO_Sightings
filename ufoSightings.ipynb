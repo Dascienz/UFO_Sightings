{
 "cells": [
  {
   "cell_type": "markdown",
   "metadata": {},
   "source": [
    "<h1 style=\"text-align: center;\">Introduction</h1>\n",
    "<br>\n",
    "<br>\n",
    "I worked on this project as part of a course on Big Data Analysis (2016) in graduate school. Instead of taking a look at a more mainstream topic like finance, social networking, or another practical avenue, I chose to look at eye-witness reports of UFOs. My primary motivation was curiosity, but the project was also sort of a welcomed break from my routine thesis work. For this project, reports were scraped from <a href=\"http://www.nuforc.org\" target=\"_blank\">nuforc.org</a> using <a href=\"https://github.com/Dascienz/UFO_Sightings/blob/master/ufoSpider.py\" target=\"_blank\">ufoSpider.py</a>. The dataset is relatively small, but very interesting nontheless. Some goals presented themselves as I looked through the data: <ul style=\"list-style-type: none;\"><li>1) Find commonalities or patterns in reported UFO Sightings.</li><li>2) Develop a UFO credibility classifier.</li><li>3) And of course... Have fun!</li></ul>\n",
    "\n",
    "Routines I used for cleaning up the scraped data can be found in <a href=\"https://github.com/Dascienz/UFO_Sightings/blob/master/ufoProcessing.py\">ufoProcessing.py</a>. There's quite a bit brute force that was used during the scrubbing process, but the finalized dataframe was worth it in the end. Anywho, without further ado, let's take a look at this data!\n",
    "<br>\n",
    "<br>"
   ]
  },
  {
   "cell_type": "code",
   "execution_count": 2,
   "metadata": {},
   "outputs": [
    {
     "data": {
      "text/html": [
       "<div>\n",
       "<style>\n",
       "    .dataframe thead tr:only-child th {\n",
       "        text-align: right;\n",
       "    }\n",
       "\n",
       "    .dataframe thead th {\n",
       "        text-align: left;\n",
       "    }\n",
       "\n",
       "    .dataframe tbody tr th {\n",
       "        vertical-align: top;\n",
       "    }\n",
       "</style>\n",
       "<table border=\"1\" class=\"dataframe\">\n",
       "  <thead>\n",
       "    <tr style=\"text-align: right;\">\n",
       "      <th></th>\n",
       "      <th>color</th>\n",
       "      <th>datetime</th>\n",
       "      <th>day</th>\n",
       "      <th>duration</th>\n",
       "      <th>hour</th>\n",
       "      <th>lat</th>\n",
       "      <th>lon</th>\n",
       "      <th>month</th>\n",
       "      <th>shape</th>\n",
       "      <th>summary</th>\n",
       "      <th>weekday</th>\n",
       "      <th>year</th>\n",
       "      <th>yearday</th>\n",
       "    </tr>\n",
       "  </thead>\n",
       "  <tbody>\n",
       "    <tr>\n",
       "      <th>0</th>\n",
       "      <td>unspecified</td>\n",
       "      <td>1996-06-24 00:30:00</td>\n",
       "      <td>24.0</td>\n",
       "      <td>60.0</td>\n",
       "      <td>0.0</td>\n",
       "      <td>39.729432</td>\n",
       "      <td>-104.831919</td>\n",
       "      <td>6.0</td>\n",
       "      <td>changing</td>\n",
       "      <td>Referred to Marilyn Childs to call CO state di...</td>\n",
       "      <td>Monday</td>\n",
       "      <td>1996.0</td>\n",
       "      <td>176.0</td>\n",
       "    </tr>\n",
       "    <tr>\n",
       "      <th>1</th>\n",
       "      <td>silver</td>\n",
       "      <td>NaN</td>\n",
       "      <td>NaN</td>\n",
       "      <td>10.0</td>\n",
       "      <td>NaN</td>\n",
       "      <td>52.804300</td>\n",
       "      <td>-2.105589</td>\n",
       "      <td>NaN</td>\n",
       "      <td>cone</td>\n",
       "      <td>((NUFORC Note: Date is unknown.  PD)),hovering...</td>\n",
       "      <td>NaN</td>\n",
       "      <td>NaN</td>\n",
       "      <td>NaN</td>\n",
       "    </tr>\n",
       "    <tr>\n",
       "      <th>2</th>\n",
       "      <td>unspecified</td>\n",
       "      <td>NaN</td>\n",
       "      <td>NaN</td>\n",
       "      <td>NaN</td>\n",
       "      <td>NaN</td>\n",
       "      <td>-17.670916</td>\n",
       "      <td>141.078042</td>\n",
       "      <td>NaN</td>\n",
       "      <td>cross</td>\n",
       "      <td>a shape like a cross with a circle in the midd...</td>\n",
       "      <td>NaN</td>\n",
       "      <td>NaN</td>\n",
       "      <td>NaN</td>\n",
       "    </tr>\n",
       "    <tr>\n",
       "      <th>3</th>\n",
       "      <td>unspecified</td>\n",
       "      <td>NaN</td>\n",
       "      <td>NaN</td>\n",
       "      <td>NaN</td>\n",
       "      <td>NaN</td>\n",
       "      <td>NaN</td>\n",
       "      <td>NaN</td>\n",
       "      <td>NaN</td>\n",
       "      <td>cylinder</td>\n",
       "      <td>I video taped a UFO off the tv (cnn/headline n...</td>\n",
       "      <td>NaN</td>\n",
       "      <td>NaN</td>\n",
       "      <td>NaN</td>\n",
       "    </tr>\n",
       "    <tr>\n",
       "      <th>4</th>\n",
       "      <td>unspecified</td>\n",
       "      <td>2016-10-15 20:00:00</td>\n",
       "      <td>15.0</td>\n",
       "      <td>2.0</td>\n",
       "      <td>20.0</td>\n",
       "      <td>39.624609</td>\n",
       "      <td>-105.084204</td>\n",
       "      <td>10.0</td>\n",
       "      <td>cross</td>\n",
       "      <td>Lakewood UFO,1 bright light at the very top,th...</td>\n",
       "      <td>Saturday</td>\n",
       "      <td>2016.0</td>\n",
       "      <td>289.0</td>\n",
       "    </tr>\n",
       "  </tbody>\n",
       "</table>\n",
       "</div>"
      ],
      "text/plain": [
       "         color             datetime   day  duration  hour        lat  \\\n",
       "0  unspecified  1996-06-24 00:30:00  24.0      60.0   0.0  39.729432   \n",
       "1       silver                  NaN   NaN      10.0   NaN  52.804300   \n",
       "2  unspecified                  NaN   NaN       NaN   NaN -17.670916   \n",
       "3  unspecified                  NaN   NaN       NaN   NaN        NaN   \n",
       "4  unspecified  2016-10-15 20:00:00  15.0       2.0  20.0  39.624609   \n",
       "\n",
       "          lon  month     shape  \\\n",
       "0 -104.831919    6.0  changing   \n",
       "1   -2.105589    NaN      cone   \n",
       "2  141.078042    NaN     cross   \n",
       "3         NaN    NaN  cylinder   \n",
       "4 -105.084204   10.0     cross   \n",
       "\n",
       "                                             summary   weekday    year  \\\n",
       "0  Referred to Marilyn Childs to call CO state di...    Monday  1996.0   \n",
       "1  ((NUFORC Note: Date is unknown.  PD)),hovering...       NaN     NaN   \n",
       "2  a shape like a cross with a circle in the midd...       NaN     NaN   \n",
       "3  I video taped a UFO off the tv (cnn/headline n...       NaN     NaN   \n",
       "4  Lakewood UFO,1 bright light at the very top,th...  Saturday  2016.0   \n",
       "\n",
       "   yearday  \n",
       "0    176.0  \n",
       "1      NaN  \n",
       "2      NaN  \n",
       "3      NaN  \n",
       "4    289.0  "
      ]
     },
     "execution_count": 2,
     "metadata": {},
     "output_type": "execute_result"
    }
   ],
   "source": [
    "import pandas as pd\n",
    "\n",
    "data = pd.read_csv(\"~/Desktop/PythonCode/Portfolio/UFO Sightings/Data/ufoData.csv\", index_col=0)\n",
    "data.head()"
   ]
  },
  {
   "cell_type": "code",
   "execution_count": 3,
   "metadata": {},
   "outputs": [
    {
     "data": {
      "text/plain": [
       "'circular object in sky with red and green lights pulsed,I was sitting on the back porch and looked up to the sky and saw a circular object with two red lights side by side and two green lights side by side creating a square inside the circle. It was pulsing and rotated half turn in place to flip red and green lights.  It then flipped back. I ran in the house to get my phone to video and recorded it.  It hovered across the sky above me. Shot forward.  Stopped.  Glided back a bit.  Then went to the right. Then sped off fast. No sound. Then disappeared.'"
      ]
     },
     "execution_count": 3,
     "metadata": {},
     "output_type": "execute_result"
    }
   ],
   "source": [
    "data['summary'][10950]"
   ]
  },
  {
   "cell_type": "code",
   "execution_count": 4,
   "metadata": {},
   "outputs": [
    {
     "data": {
      "text/plain": [
       "104244"
      ]
     },
     "execution_count": 4,
     "metadata": {},
     "output_type": "execute_result"
    }
   ],
   "source": [
    "len(data['summary'])"
   ]
  },
  {
   "cell_type": "markdown",
   "metadata": {},
   "source": [
    "So there aren't too many reports here and as far as 'big data' is concerned, this is a tiny set with only 104,244 rows. I've read a good number of these summaries out of pure curiosity, and a lot of them are very interesting and peculiar. I did a lot of wrangling to structure these reports into a nice DataFrame format, but a lot of information is missing in some of the columns as a result of incomplete accounts from the witnesses. Some features, like color for example, were extracted from the text descriptions. My hacky methods can all be viewed in <a href=\"https://github.com/Dascienz/UFO_Sightings/blob/master/ufoProcessing.py\">ufoProcessing.py</a>. To start, I first mapped spatial distributions of the sightings using Basemap and geographic coordinates obtained through geopy."
   ]
  },
  {
   "cell_type": "markdown",
   "metadata": {},
   "source": [
    "<h1 style=\"text-align: center;\">Sightings Geodata</h1>"
   ]
  },
  {
   "cell_type": "code",
   "execution_count": 11,
   "metadata": {
    "collapsed": true
   },
   "outputs": [],
   "source": [
    "import numpy as np\n",
    "import matplotlib.pyplot as plt\n",
    "from scipy.stats import gaussian_kde\n",
    "from mpl_toolkits.basemap import Basemap\n",
    "\n",
    "def worldMap(data):\n",
    "    \"\"\"Total world sightings map.\"\"\"\n",
    "    fig = plt.figure(figsize=(8,6))\n",
    "    ax = fig.add_axes([0.05, 0.05, 0.9, 0.9])\n",
    "\n",
    "    m = Basemap(projection='kav7',lon_0 = 0,resolution = None)\n",
    "    m.drawmapboundary(fill_color='0.3')\n",
    "    m.shadedrelief()\n",
    "\n",
    "    # Draw parallels and meridians.\n",
    "    m.drawparallels(np.arange(-90.,99.,30.))\n",
    "    m.drawmeridians(np.arange(-180.,180.,60.))\n",
    "\n",
    "    # Calculate the point density\n",
    "    lonx = data['lon'][np.isnan(data['lon']) == False].values\n",
    "    laty = data['lat'][np.isnan(data['lat']) == False].values\n",
    "    xy = np.vstack([lonx,laty])\n",
    "    z = gaussian_kde(xy)(xy)\n",
    "\n",
    "    # Sort the points by density, so that the densest points are plotted last\n",
    "    idx = z.argsort()\n",
    "    x, y, z = lonx[idx], laty[idx], z[idx]\n",
    "\n",
    "    xmap, ymap = m(x,y)\n",
    "    sc = m.scatter(xmap, ymap, c=z, s=20, edgecolor='', cmap=plt.cm.plasma)\n",
    "    ax.set_title('World UFO Sightings')\n",
    "    m.colorbar(sc, location='bottom', pad='3%')\n",
    "    plt.show()\n",
    "\n",
    "def naMap(data):\n",
    "    \"\"\"North America sightings map.\"\"\"\n",
    "    fig = plt.figure()\n",
    "    m = Basemap(projection='lcc',\n",
    "                llcrnrlon=-119, \n",
    "                llcrnrlat=22, \n",
    "                urcrnrlon=-64,\n",
    "                urcrnrlat=49, \n",
    "                lat_1=33, \n",
    "                lat_2=45,\n",
    "                lon_0=-95,\n",
    "                area_thresh=10000)\n",
    "\n",
    "    m.drawmapboundary(linewidth= 1.5)\n",
    "    m.drawstates()\n",
    "    m.drawcountries()\n",
    "    m.shadedrelief()\n",
    "\n",
    "    # Calculate the point density\n",
    "    lonx = data['lon'][np.isnan(data['lon']) == False].values\n",
    "    laty = data['lat'][np.isnan(data['lat']) == False].values\n",
    "    xy = np.vstack([lonx,laty])\n",
    "    z = gaussian_kde(xy)(xy)\n",
    "\n",
    "    # Sort the points by density, so that the densest points are plotted last\n",
    "    idx = z.argsort()\n",
    "    x, y, z = lonx[idx], laty[idx], z[idx]\n",
    "    xmap, ymap = m(x, y)\n",
    "    sc = m.scatter(xmap, ymap, c=z, s=30, edgecolor='', cmap=plt.cm.plasma)\n",
    "    plt.title('United States UFO Sightings')\n",
    "    m.colorbar(sc, location='right', pad='5%')\n",
    "    plt.tight_layout()\n",
    "    plt.show()\n",
    "\n",
    "\"\"\"\n",
    "Is there a correlation with airport, heliport, and seaplane base location?\n",
    "Airport data obtained and sliced from: https://www.faa.gov/airports/airport_safety/airportdata_5010/\n",
    "\"\"\"\n",
    "airports = pd.read_csv('~/Desktop/PythonCode/Portfolio/UFO Sightings/Data/airportData.csv')\n",
    "airports = airports.dropna().reset_index(drop=True)\n",
    "\n",
    "# Have to convert latitude and longitude to a standard scale\n",
    "# for map plotting.\n",
    "def convert(tude):\n",
    "    multiplier = 1 if tude[-1] in ['N', 'E'] else -1\n",
    "    return multiplier*sum(float(x)/60**n for n, x in enumerate(tude[:-1].split('-')))\n",
    "\n",
    "airports['Lon'] = [convert(l) for l in airports['ARPLongitude']]\n",
    "airports['Lat'] = [convert(l) for l in airports['ARPLatitude']]\n",
    "airports['ActivationDate'] = pd.to_datetime(airports['ActiviationDate'].astype('str'), errors = 'coerce')\n",
    "\n",
    "# Plotting airports for the USA\n",
    "def airportMap(airports):\n",
    "    fig = plt.figure()\n",
    "    m = Basemap(projection='lcc',\n",
    "                llcrnrlon=-119, \n",
    "                llcrnrlat=22, \n",
    "                urcrnrlon=-64,\n",
    "                urcrnrlat=49, \n",
    "                lat_1=33, \n",
    "                lat_2=45,\n",
    "                lon_0=-95,\n",
    "                area_thresh=10000)\n",
    "\n",
    "    m.drawmapboundary(linewidth= 1.5)\n",
    "    m.drawstates()\n",
    "    m.drawcountries()\n",
    "    m.shadedrelief()\n",
    "\n",
    "    # Calculate the point density\n",
    "    lonx = airports['Lon'][(airports['ActivationDate'] >= pd.Timestamp('1950-01-01'))].values\n",
    "    laty = airports['Lat'][(airports['ActivationDate'] >= pd.Timestamp('1950-01-01'))].values\n",
    "    xy = np.vstack([lonx,laty])\n",
    "    z = gaussian_kde(xy)(xy)\n",
    "\n",
    "    # Sort the points by density, so that the densest points are plotted last\n",
    "    idx = z.argsort()\n",
    "    x, y, z = lonx[idx], laty[idx], z[idx]\n",
    "    xmap, ymap = m(x, y)\n",
    "\n",
    "    sc = m.scatter(xmap, ymap, c=z, s=30, edgecolor='', cmap=plt.cm.plasma)\n",
    "    m.colorbar(sc, location='right', pad='5%')\n",
    "    plt.title('United States Airports, Heliports, and Seaplane Bases')\n",
    "    plt.tight_layout()\n",
    "    plt.show()\n",
    "\n",
    "\"\"\"\n",
    "Is there any visible correlation between Sightings and Military Base locations?\n",
    "Military bases obtained from 'https://www.google.com/maps/d/viewer?mid=1XFBnIuaJ-71hcaDJvdmBmeXNhYM&hl=en&ll=47.323248104393414%2C-114.05083400000001&z=3'\n",
    "\"\"\"\n",
    "military = pd.read_csv('~/Desktop/PythonCode/Portfolio/UFO Sightings/Data/militaryData.csv')\n",
    "military = military.dropna().reset_index(drop=True)\n",
    "\n",
    "# Plotting Military Bases in the USA\n",
    "def militaryMap(military):\n",
    "    fig = plt.figure()\n",
    "    m = Basemap(projection='lcc',\n",
    "                llcrnrlon=-119, \n",
    "                llcrnrlat=22, \n",
    "                urcrnrlon=-64,\n",
    "                urcrnrlat=49, \n",
    "                lat_1=33, \n",
    "                lat_2=45,\n",
    "                lon_0=-95,\n",
    "                area_thresh=10000)\n",
    "\n",
    "    m.drawmapboundary(linewidth= 1.5)\n",
    "    m.drawstates()\n",
    "    m.drawcountries()\n",
    "    m.shadedrelief()\n",
    "\n",
    "    # Calculate the point density\n",
    "    lonx = military['longitude'].values\n",
    "    laty = military['latitude'].values\n",
    "    xy = np.vstack([lonx,laty])\n",
    "    z = gaussian_kde(xy)(xy)\n",
    "\n",
    "    # Sort the points by density, so that the densest points are plotted last\n",
    "    idx = z.argsort()\n",
    "    x, y, z = lonx[idx], laty[idx], z[idx]\n",
    "    xmap, ymap = m(x, y)\n",
    "    \n",
    "    sc = m.scatter(xmap, ymap, c=z, s=60, edgecolor='black', cmap=plt.cm.plasma)\n",
    "    m.colorbar(sc, location='right', pad='5%')\n",
    "    plt.title('United States Military Bases')\n",
    "    plt.tight_layout()\n",
    "    plt.show()"
   ]
  },
  {
   "cell_type": "markdown",
   "metadata": {},
   "source": [
    "<img src=\"/img/World_UFO_Heatmap_300dpi.png\"/>\n",
    "<img src=\"/img/America_UFO_Heatmap_300dpi.png\"/>\n",
    "<img src=\"/img/airports.png\"/>\n",
    "<img src=\"/img/military.png\"/>"
   ]
  },
  {
   "cell_type": "markdown",
   "metadata": {},
   "source": [
    "So from these plots we can see that most sightings have been reported from the United States, which makes sense since NUFORC is US-based. There are a number of sightings reported from outside the United States though, but the majority are indeed US-based sightings. Taking a closer look at the US, we see that sightings are most concentrated around the Pennsylvania region and souther California. To try and understand this, I also took a look at location data for airports, heliports, and seaplane bases as well as US military bases. Lo and behold, there appears to be a good, visible spatial correlation between UFO sightings hotspots and densely concentrated military bases and airports. Let's quantify the geospatial correlations to see which locations are more significant, military bases or airports?"
   ]
  },
  {
   "cell_type": "code",
   "execution_count": 5,
   "metadata": {
    "collapsed": true
   },
   "outputs": [],
   "source": [
    "# vectorized haversine function\n",
    "def haversine(lat1, lon1, lat2, lon2):\n",
    "    \"\"\"\n",
    "    Modified version of: http://stackoverflow.com/a/29546836/2901002,\n",
    "    Calculate the great circle distance between two points\n",
    "    on the earth (specified in decimal degrees or in radians)\n",
    "    \"\"\"\n",
    "    to_radians = True\n",
    "    earth_radius = 6371 #km\n",
    "    \n",
    "    if to_radians:\n",
    "        lat1, lon1, lat2, lon2 = np.radians([lat1, lon1, lat2, lon2])\n",
    "\n",
    "    dlat, dlon = (lat2-lat1), (lon2-lon1)\n",
    "    a = np.sin(dlat/2.0)**2 + np.cos(lat1)*np.cos(lat2)*np.sin(dlon/2.0)**2\n",
    "    distance = 2*earth_radius*np.arcsin(np.sqrt(a))\n",
    "    \n",
    "    return distance"
   ]
  },
  {
   "cell_type": "code",
   "execution_count": 16,
   "metadata": {},
   "outputs": [],
   "source": [
    "ufo_coordinates = data[['lat','lon']].copy().dropna().reset_index(drop=True) #ufo points\n",
    "\n",
    "airport_coordinates = airports[['Lat','Lon']].copy() #airport points\n",
    "airport_coordinates = airport_coordinates.rename(columns = {'Lat':'lat','Lon':'lon'})\n",
    "\n",
    "military_coordinates = military[['latitude','longitude']].copy() #military points\n",
    "military_coordinates = military_coordinates.rename(columns = {'latitude':'lat','longitude':'lon'})"
   ]
  },
  {
   "cell_type": "markdown",
   "metadata": {},
   "source": [
    "Now, we don't just want to calculate every single haversine distance and find the distribution by brute force, that would take a very very very long time, and we'd have N sightings * M airport combinations to go through, which is over one billion. Instead, we can calculate the central point of sightings latitude and longitude locations and then calculate the haversine distances between the central points and airport/military base locations."
   ]
  },
  {
   "cell_type": "code",
   "execution_count": 101,
   "metadata": {
    "collapsed": true
   },
   "outputs": [],
   "source": [
    "def point(lat, lon):\n",
    "    R = 6371 #km\n",
    "    x = R*np.cos(lat)*np.cos(lon)\n",
    "    y = R*np.cos(lat)*np.sin(lon)\n",
    "    z = R*np.sin(lat)   \n",
    "    return x, y, z\n",
    "\n",
    "def nearby_points(a,b):\n",
    "    \"\"\"Given a(x,y,z) and b(x,y,z), count how many points in a are close to b.\"\"\"\n",
    "    cutoff = 50 #50km radius\n",
    "    counts = []\n",
    "    for i in range(len(b)):\n",
    "        print(i, flush=True)\n",
    "        count = 0\n",
    "        bx, by, bz = point(b.lat[i], b.lon[i])\n",
    "        for j in range(len(a)):\n",
    "            ax, ay, az = point(a.lat[j], a.lon[j])\n",
    "            d = np.sqrt((ax-bx)**2+(ay-by)**2+(az-bz)**2)\n",
    "            if d <= cutoff:\n",
    "                count += 1\n",
    "        counts.append(count)\n",
    "    return counts"
   ]
  },
  {
   "cell_type": "code",
   "execution_count": 104,
   "metadata": {},
   "outputs": [
    {
     "name": "stdout",
     "output_type": "stream",
     "text": [
      "97281\n",
      "601\n",
      "18512\n"
     ]
    }
   ],
   "source": [
    "print(len(ufo_coordinates))\n",
    "print(len(military_coordinates))\n",
    "print(len(airport_coordinates))"
   ]
  },
  {
   "cell_type": "code",
   "execution_count": 75,
   "metadata": {
    "collapsed": true
   },
   "outputs": [],
   "source": [
    "from scipy.stats import norm\n",
    "\n",
    "def point(lat, lon):\n",
    "    R = 6371 #km\n",
    "    x = R*np.cos(lat)*np.cos(lon)\n",
    "    y = R*np.cos(lat)*np.sin(lon)\n",
    "    z = R*np.sin(lat)   \n",
    "    return x, y, z\n",
    "\n",
    "def nearby_points(a,b):\n",
    "    \"\"\"Given a(x,y,z) and b(x,y,z), count how many points in a are close to b.\"\"\"\n",
    "    cutoff = 50 #50km radius\n",
    "    counts, count = [], 0\n",
    "    for i in range(len(b)):\n",
    "        bx, by, bz = point(b.lat[i], b.lon[i])\n",
    "        for j in range(len(a)):\n",
    "            ax, ay, az = point(a.lat[j], a.lon[j])\n",
    "            d = np.sqrt((ax-bx)**2+(ay-by)**2+(az-bz)**2)\n",
    "            if d <= cutoff:\n",
    "                count += 1\n",
    "        counts.append(count)\n",
    "    return counts\n",
    "            \n",
    "\n",
    "def center_geolocation(lats,lons):\n",
    "    \"\"\"\n",
    "    Provide a relatively accurate center lat, lon returned as a list pair, given\n",
    "    a list of list pairs.\n",
    "    ex: in: geolocations = ((lat1,lon1), (lat2,lon2),)\n",
    "        out: (center_lat, center_lon)\n",
    "    \"\"\"\n",
    "    x = 0\n",
    "    y = 0\n",
    "    z = 0\n",
    "    N = len(lats)\n",
    "    \n",
    "    for lat, lon in zip(lats,lons):\n",
    "        x += np.cos(lat)*np.cos(lon)\n",
    "        y += np.cos(lat)*np.sin(lon)\n",
    "        z += np.sin(lat)\n",
    "\n",
    "    x = (x/N)\n",
    "    y = (y/N)\n",
    "    z = (z/N)\n",
    "\n",
    "    c_lat = np.arctan2(z, np.sqrt(x**2 + y**2)) #convert back to latitude\n",
    "    c_lon = np.arctan2(y, x) #convert back to longitude\n",
    "    \n",
    "    return c_lat, c_lon\n",
    "\n",
    "def distribution(df1,df2):\n",
    "    c_lat, c_lon = center_geolocation(df1.lat, df1.lon)\n",
    "    distances = []\n",
    "    N = len(df2)\n",
    "    for i in range(N):\n",
    "        d = haversine(c_lat, c_lon, df2.lat[i], df2.lon[i])\n",
    "        distances.append(d)\n",
    "    \n",
    "    mu = np.mean(distances)\n",
    "    std = np.std(distances)\n",
    "    xp = np.linspace(0, np.max(distances), 1000)\n",
    "    p_dist = norm.pdf(xp, mu, std)\n",
    "    return distances, p_dist"
   ]
  },
  {
   "cell_type": "code",
   "execution_count": 76,
   "metadata": {},
   "outputs": [],
   "source": [
    "_, p_airports = distribution(ufo_coordinates, airport_coordinates)\n",
    "_, p_military = distribution(ufo_coordinates, military_coordinates)"
   ]
  },
  {
   "cell_type": "code",
   "execution_count": 95,
   "metadata": {},
   "outputs": [
    {
     "data": {
      "image/png": "[encoded data removed]",
      "text/plain": [
       "<matplotlib.figure.Figure at 0x118cd3278>"
      ]
     },
     "metadata": {},
     "output_type": "display_data"
    }
   ],
   "source": [
    "plt.figure(figsize=(7,5))\n",
    "plt.title(\"Geospatial Gaussians\")\n",
    "plt.plot(p_airports, 'b-')\n",
    "plt.plot(p_military, 'r-')\n",
    "plt.legend(('Airport-Sightings','Military-Sightings'))\n",
    "plt.xlim([0,1000])\n",
    "plt.ylim([-0.00001,0.00040])\n",
    "plt.show()\n",
    "\n",
    "#This is very vague, let's try and count how many sightings occurr within a given radius \n",
    "#for each military base and airport using np.isclose() if True then += 1?"
   ]
  },
  {
   "cell_type": "markdown",
   "metadata": {},
   "source": [
    "<h1 style=\"text-align: center;\">Plotting</h1>\n",
    "\n",
    "After mapping spatial distributions, I started trying to visualize sightings trends with respect to shape categorical data and time (day, year, etc.)."
   ]
  },
  {
   "cell_type": "code",
   "execution_count": null,
   "metadata": {
    "collapsed": true
   },
   "outputs": [],
   "source": [
    "import nltk\n",
    "import itertools\n",
    "import numpy as np\n",
    "import matplotlib.pyplot as plt\n",
    "\n",
    "# SHAPE DATA\n",
    "def shapePlot():\n",
    "    \"\"\"Sightings distribution by UFO shape.\"\"\"\n",
    "    shape_counts = data['shape'].value_counts()\n",
    "    shape_counts.plot(kind = \"barh\", colormap = \"ocean\")\n",
    "    font = {'fontsize':'larger'}\n",
    "    percent_font = {'fontsize':'smaller'}\n",
    "    plt.title('Sightings by Shape', **font)\n",
    "    plt.xlabel('Sightings')\n",
    "    plt.xlim([0,36000])\n",
    "    \n",
    "    #Percentages by UFO Shape\n",
    "    shape_percent = [s*(100.0/shape_counts.sum()) for s in shape_counts]\n",
    "    X = shape_counts.values\n",
    "    Y = [i for i in range(len(shape_percent))]\n",
    "    for i in range(len(shape_percent)):\n",
    "        x = X[i]+500\n",
    "        y = Y[i]-0.2\n",
    "        plt.text(x,y,'%.2f' % shape_percent[i] + '%', **percent_font)\n",
    "    plt.tight_layout()\n",
    "    plt.show()"
   ]
  },
  {
   "cell_type": "markdown",
   "metadata": {},
   "source": [
    "<img src=\"/files/Desktop/PythonCode/Portfolio/UFO Sightings/Plots/Sightings_by_Shape_300dpi.png\" style=\"max-width: 800px;\"/>"
   ]
  },
  {
   "cell_type": "markdown",
   "metadata": {},
   "source": [
    "These shape categories are far from balanced, with light representing about 30% of all the data. There are indeed some interesting shapes listed like chevron and egg, but for now let's continue taking a look at the rest of the data."
   ]
  },
  {
   "cell_type": "code",
   "execution_count": null,
   "metadata": {
    "collapsed": true
   },
   "outputs": [],
   "source": [
    "def durationPlots():\n",
    "    \"\"\"Durations distributions by UFO shape.\"\"\"\n",
    "    shapes = data['shape'].value_counts().index.tolist()\n",
    "    means = ['%.1f' % data['duration'][data['shape'] == shape].mean() for shape in shapes]\n",
    "    means = [float(x) for x in means]\n",
    "    tuples = [*zip(shapes,means)]\n",
    "    tuples.sort(key = lambda x: x[1], reverse=True)\n",
    "    shapes, means = zip(*tuples)\n",
    "    plt.figure()\n",
    "    plt.title('Average Duration by Shape')\n",
    "    plt.xlabel('Duration (minutes)')\n",
    "    idy = np.arange(len(shapes))\n",
    "    plt.barh(idy,means,alpha=0.5,color='red')\n",
    "    plt.yticks(idy,shapes)\n",
    "    plt.savefig('Sightings_by_Duration_300dpi.png', format = 'png', dpi = 300)\n",
    "    plt.show()\n",
    "\n",
    "    data_to_plot = []\n",
    "    for shape in shapes:\n",
    "        data_to_plot.append(data['duration'][data['shape']==shape].values)\n",
    "        for array in data_to_plot:\n",
    "            for i in range(len(array)):\n",
    "                if np.isnan(array[i]) == True:\n",
    "                    array[i] = np.nanmean(array)\n",
    "                    \n",
    "    plt.figure()\n",
    "    plt.title('Durations Box Plots')\n",
    "    plt.boxplot(data_to_plot, showfliers=False)\n",
    "    plt.ylim([0,125])\n",
    "    idx = np.arange(1,len(shapes)+1)\n",
    "    plt.xticks(idx,shapes,rotation=90)\n",
    "    plt.ylabel('Duration (minutes)')\n",
    "    plt.tight_layout()\n",
    "    plt.savefig('Sightings_by_Duration_Boxplot_300dpi.png', format = 'png', dpi = 300)\n",
    "    plt.show()"
   ]
  },
  {
   "cell_type": "code",
   "execution_count": null,
   "metadata": {},
   "outputs": [],
   "source": [
    "data['duration'].mean()"
   ]
  },
  {
   "cell_type": "markdown",
   "metadata": {},
   "source": [
    "The average duration of a sighting roughly 30 minutes, but this seems to be thrown off by outliers with high durations. In particular, the 'other' category has a massive average duration. This category is for shapes that either weren't provided OR are not exact matches to the categories represented in nuforc's database."
   ]
  },
  {
   "cell_type": "markdown",
   "metadata": {},
   "source": [
    "<img src=\"/files/Desktop/PythonCode/Portfolio/UFO Sightings/Plots/Sightings_by_Duration_300dpi.png\" style=\"max-width: 800px;\"/>\n",
    "\n",
    "<img src=\"/files/Desktop/PythonCode/Portfolio/UFO Sightings/Plots/Sightings_by_Duration_Boxplot_300dpi.png\" style=\"max-width: 800px;\"/>"
   ]
  },
  {
   "cell_type": "code",
   "execution_count": null,
   "metadata": {},
   "outputs": [],
   "source": [
    "from scipy.stats import ttest_ind\n",
    "\n",
    "def tTest(group_1, group_2):\n",
    "    x = data['duration'][data['shape']==group_1]\n",
    "    y = data['duration'][data['shape']==group_2]\n",
    "    return ttest_ind(x.dropna().values, y.dropna().values)\n",
    "\n",
    "for shape in data['shape'].value_counts().index.tolist():\n",
    "    if shape != 'other':\n",
    "        print(\"Compared with \" + str(shape) + \": Statistic =\", abs(tTest(str(shape),'other')[0]))"
   ]
  },
  {
   "cell_type": "markdown",
   "metadata": {},
   "source": [
    "As far as durations data is concerned, iterated t-tests help to verify that these unspecified, or 'other', shape categories are at least statistically different from most other categories, but there is significant similarity with the 'cone' and 'cross' categories."
   ]
  },
  {
   "cell_type": "code",
   "execution_count": null,
   "metadata": {
    "collapsed": true
   },
   "outputs": [],
   "source": [
    "# DISTRIBUTION BY HOUR (WITH COLOR MAPPING SCALED BY HEIGHT)\n",
    "def hourPlot():\n",
    "    \"\"\"Sightings distribution by hour of the day.\"\"\"\n",
    "    total = data['hour'][(data['hour'] >= 0) & (data['hour'] <= 24)]\n",
    "\n",
    "    cmap = plt.cm.get_cmap('autumn')\n",
    "    Y,X = np.histogram(total,24,normed=1.0)\n",
    "    y_span = Y.max()-Y.min()\n",
    "    colors = [cmap(((y-Y.min())/y_span)) for y in Y]\n",
    "    y_max = total.value_counts().sum()\n",
    "\n",
    "    font = {'fontsize':'larger'}\n",
    "    b = np.arange(0,24,1)\n",
    "    plt.bar(b,Y*y_max,width=b[1]-b[0],color=colors,align='center')\n",
    "    plt.xticks(b)\n",
    "    plt.xlim([-0.5,23.5])\n",
    "    plt.xlabel('24-hour Time')\n",
    "    plt.ylabel('Sightings')\n",
    "    plt.title('Sightings by Hour', **font)\n",
    "    plt.tight_layout()\n",
    "    plt.savefig('Sightings_by_Hour_300dpi.png', format='png',dpi=300)\n",
    "    plt.show()"
   ]
  },
  {
   "cell_type": "markdown",
   "metadata": {},
   "source": [
    "<img src=\"/files/Desktop/PythonCode/Portfolio/UFO Sightings/Plots/Sightings_by_Hour_300dpi.png\" style=\"max-width: 800px;\"/>"
   ]
  },
  {
   "cell_type": "markdown",
   "metadata": {},
   "source": [
    "Now we're getting into some more interesting territory here. UFO Sightings are lowest during traditional sleeping and working hours, which is to be expected. Sightings are highest between 6:00 P.M. and 1:00 A.M. This is a time when the sun is either setting or has already set and objects in the sky are relatively easier to track in the absence of light pollution. However, this is also a time period for recreational activities such as drinking."
   ]
  },
  {
   "cell_type": "code",
   "execution_count": null,
   "metadata": {
    "collapsed": true
   },
   "outputs": [],
   "source": [
    "# DISTRIBUTION BY WEEKDAY (WITH COLOR MAPPING SCALED BY HEIGHT)\n",
    "def weekdayPlot():\n",
    "    \"\"\"Sightings distribution by weekday.\"\"\"\n",
    "    total = pd.DataFrame({'weekday': data['weekday']})\n",
    "    weekdays = {'Monday':1,'Tuesday':2,'Wednesday':3,\n",
    "                'Thursday':4,'Friday':5,'Saturday':6,\n",
    "                'Sunday':7}\n",
    "    total['weekday'].replace(weekdays, inplace=True)\n",
    "    total = total['weekday'][(total['weekday'] >= 1) & (total['weekday'] <= 7)]\n",
    "\n",
    "    cmap = plt.cm.get_cmap('spring')\n",
    "    Y,X = np.histogram(total,7,normed=1.0)\n",
    "    y_span = Y.max()-Y.min()\n",
    "    colors = [cmap(((y-Y.min())/y_span)) for y in Y]\n",
    "    y_max = total.value_counts().sum()\n",
    "\n",
    "    font = {'fontsize':'larger'}\n",
    "    plt.bar(sorted(list(weekdays.values())),Y*y_max,width=1.0,\n",
    "            color=colors,align='center',label=list(weekdays.keys()))\n",
    "    plt.xticks(list(weekdays.values()),list(weekdays.keys()),ha='right',rotation='45')\n",
    "    plt.xlim([-.5,7.5])\n",
    "    plt.xlabel('Weekday')\n",
    "    plt.ylabel('Sightings')\n",
    "    plt.title('Sightings by Week', **font)\n",
    "    plt.tight_layout()\n",
    "    plt.savefig('Sightings_by_Day_300dpi.png', format='png',dpi=300)\n",
    "    plt.show()"
   ]
  },
  {
   "cell_type": "markdown",
   "metadata": {},
   "source": [
    "<img src=\"/files/Desktop/PythonCode/Portfolio/UFO Sightings/Plots/Sightings_by_Day_300dpi.png\" style=\"max-width: 800px;\"/>"
   ]
  },
  {
   "cell_type": "markdown",
   "metadata": {},
   "source": [
    "When looking at sightings by weekday, there's a visible increase in sightings as the week progresses towards the weekend, with a spike occurring on Saturday and dipping sharply from Sunday to Monday. This struck me as odd, but when combined with the hourly data trends, the data suggests that sightings could be correlated with time periods for recreational activities. Here's an <a href=\"https://www.economist.com/news/united-states/21605918-everything-you-need-know-about-ufos-0\" target=\"_blank\">article</a> I found which looks into the NUFORC data that helps support these observations."
   ]
  },
  {
   "cell_type": "code",
   "execution_count": null,
   "metadata": {
    "collapsed": true
   },
   "outputs": [],
   "source": [
    "def monthPlot():\n",
    "    \"\"\"Sightings distribution by month.\"\"\"\n",
    "    total = data['month'][(data['month'] >= 1) & (data['month'] <= 12)]\n",
    "\n",
    "    months = {'Jan':1,'Feb':2,'Mar':3,\n",
    "              'Apr':4,'May':5,'Jun':6,\n",
    "              'Jul':7,'Aug':8,'Sep':9,\n",
    "              'Oct':10,'Nov':11,'Dec':12}\n",
    "\n",
    "    cmap = plt.cm.get_cmap('summer')\n",
    "    Y,X = np.histogram(total,12,normed=1.0)\n",
    "    y_span = Y.max()-Y.min()\n",
    "    colors = [cmap(((y-Y.min())/y_span)) for y in Y]\n",
    "    y_max = total.value_counts().sum()\n",
    "          \n",
    "    font = {'fontsize':'larger'}\n",
    "    plt.bar(list(months.values()),Y*y_max,width=1.0,\n",
    "            color=colors,align='center',label=list(months.keys()))\n",
    "    plt.xticks(list(months.values()),list(months.keys()),ha='right',rotation='45')\n",
    "    plt.xlim([0.5,12.5])\n",
    "    plt.xlabel('Month')\n",
    "    plt.ylabel('Sightings')\n",
    "    plt.title('Sightings by Month', **font)\n",
    "    plt.tight_layout()\n",
    "    plt.savefig('Sightings_by_Month_300dpi.png', format='png',dpi=300)\n",
    "    plt.show()"
   ]
  },
  {
   "cell_type": "markdown",
   "metadata": {},
   "source": [
    "<img src=\"/files/Desktop/PythonCode/Portfolio/UFO Sightings/Plots/Sightings_by_Month_300dpi.png\" style=\"max-width: 800px;\"/>"
   ]
  },
  {
   "cell_type": "markdown",
   "metadata": {},
   "source": [
    "Looking at the sightings distribution by month, we see notable spikes during January and July. Overall, sightings appear to be high in the summer, autumn, and winter seasons, but strangely enough they dip in the spring time. I personally spend a lot of time indoors during the spring season as a result of tree pollen allergies, and emerge from reclusion when the summer comes around in June, but that may not be what's happening here. This could be a correlation with seasonal trends of US flights, but I've not looked into it."
   ]
  },
  {
   "cell_type": "code",
   "execution_count": null,
   "metadata": {
    "collapsed": true
   },
   "outputs": [],
   "source": [
    "# DISTRIBUTION BY YEAR\n",
    "def yearPlot():\n",
    "    \"\"\"Sightings distribution by year.\"\"\"\n",
    "    total = data['year'][(data['year'] >= 1965) & (data['year'] <= 2016)]\n",
    "\n",
    "    cmap = plt.cm.get_cmap('winter')\n",
    "    Y,X = np.histogram(total,len(total.value_counts()),normed=1.0)\n",
    "    y_span = Y.max()-Y.min()\n",
    "    colors = [cmap(((y-Y.min())/y_span)) for y in Y]\n",
    "    y_max = total.value_counts().sum()\n",
    "\n",
    "    font = {'fontsize':'larger'}\n",
    "    plt.bar(X[:-1],Y*y_max,width=X[1]-X[0],\n",
    "            color=colors,align='center')\n",
    "    plt.xticks(np.arange(X.min(),X.max()+1,5),ha='right',rotation='45')\n",
    "    plt.xlim([1964.5,2016.5])\n",
    "    plt.axvline(x=1997,color='red',linestyle='dashed')\n",
    "    plt.text(1998,7000,'Google', rotation=45)\n",
    "    plt.xlabel('Year')\n",
    "    plt.ylabel('Sightings')\n",
    "    plt.title('Sightings by Year', **font)\n",
    "    plt.axis('tight')\n",
    "    plt.tight_layout()\n",
    "    plt.savefig('Sightings_by_Year_300dpi.png', format='png',dpi=300)\n",
    "    plt.show()"
   ]
  },
  {
   "cell_type": "markdown",
   "metadata": {},
   "source": [
    "<img src=\"/files/Desktop/PythonCode/Portfolio/UFO Sightings/Plots/Sightings_by_Year_300dpi.png\" style=\"max-width: 800px;\"/>"
   ]
  },
  {
   "cell_type": "markdown",
   "metadata": {},
   "source": [
    "For reference, Google's domain was officially purchased in 1997, and although NUFORC was around before then, they didn't have the accessibility or exposure they have today without search index giants like Google or the modern internet as a collective network of shared information. Thus, the rise in reports here, from my understanding, is a result of people having an accessible place to report their sightings rather than a true increase in sightings over recent years."
   ]
  },
  {
   "cell_type": "code",
   "execution_count": null,
   "metadata": {
    "collapsed": true
   },
   "outputs": [],
   "source": [
    "# DISTRIBUTION BY DAY OF THE YEAR\n",
    "def yeardayPlot():\n",
    "    \"\"\"Sightings distribution by day of the year.\"\"\"\n",
    "    font = {'fontsize':'larger'}\n",
    "    data['yearday'].hist(bins=np.arange(0,365,3), align='left',alpha=0.75)\n",
    "    plt.ylabel('Sightings')\n",
    "    plt.xlabel('Day of Year')\n",
    "    plt.xlim([0,365])\n",
    "    plt.text(4,2000,'New Years',rotation=45,color='green')\n",
    "    plt.text(188,2000,'July 4th',rotation=45,color='green')\n",
    "    plt.xticks(rotation='45')\n",
    "    plt.title('Sightings by Day of Year', **font)\n",
    "    plt.axis('tight')\n",
    "    plt.grid(False)\n",
    "    plt.tight_layout()\n",
    "    plt.savefig('Sightings_by_DayOfYear.png', format = 'png', dpi = 300)\n",
    "    plt.show()"
   ]
  },
  {
   "cell_type": "markdown",
   "metadata": {},
   "source": [
    "<img src=\"/files/Desktop/PythonCode/Portfolio/UFO Sightings/Plots/Sightings_by_DayOfYear.png\" style=\"max-width: 800px;\"/>"
   ]
  },
  {
   "cell_type": "markdown",
   "metadata": {},
   "source": [
    "Here's a look at the sightings distribution by day of the year. The most notable spikes are around New Years and July 4th which, of course, are holidays known for their fireworks displays. I'm confident enough to say that these spikes in sightings are people mistaking fireworks for UFOs. "
   ]
  },
  {
   "cell_type": "code",
   "execution_count": null,
   "metadata": {
    "collapsed": true
   },
   "outputs": [],
   "source": [
    "def colorCloud():\n",
    "    \"\"\"Generate wordcloud from color categories.\"\"\"\n",
    "    plt.figure(figsize=(8,6))\n",
    "    colors = data['color'].value_counts().index.tolist()        \n",
    "    frequencies = data['color'].value_counts().values.tolist() \n",
    "    color_dict = dict([*zip(colors, frequencies)][1:])\n",
    "    cloud = wordcloud.WordCloud(background_color='white',\n",
    "                                random_state=58,\n",
    "                                width=1600,height=800)\n",
    "    cloud.generate_from_frequencies(color_dict)\n",
    "    plt.axis('off')\n",
    "    plt.imshow(cloud.recolor(colormap=plt.cm.hsv))\n",
    "    plt.savefig('Colors_Word_Cloud.png',format='png',dpi=300)\n",
    "    plt.show()"
   ]
  },
  {
   "cell_type": "markdown",
   "metadata": {},
   "source": [
    "<img src=\"/files/Desktop/PythonCode/Portfolio/UFO Sightings/Plots/Colors_Word_Cloud.png\" style=\"max-width: 800px;\"/>"
   ]
  },
  {
   "cell_type": "markdown",
   "metadata": {},
   "source": [
    "Here's just a pretty word cloud showing most common colors. The prevalence of the color is represented by the size of its word in the cloud, with white being the most common color and orange and red following after it in that order. Red, white, and orange are common fireworks colors, so this adds to my concern that the dataset is polluted with fireworks sightings rather than actual UFOs. Let's take a look at major correlations within the data."
   ]
  },
  {
   "cell_type": "markdown",
   "metadata": {},
   "source": [
    "<h1 style=\"text-align:center;\">Correlations</h1>"
   ]
  },
  {
   "cell_type": "code",
   "execution_count": null,
   "metadata": {},
   "outputs": [],
   "source": [
    "# Dictionary for changing month categories into number tags and vise versa.\n",
    "months = {'Jan':1,'Feb':2,'Mar':3,\n",
    "          'Apr':4,'May':5,'Jun':6,\n",
    "          'Jul':7,'Aug':8,'Sep':9,\n",
    "          'Oct':10,'Nov':11,'Dec':12}\n",
    "inv_months = {v:k for k,v in months.items()}\n",
    "data['month'] = data['month'].replace(inv_months)\n",
    "\n",
    "# Correlation Matrix Function\n",
    "duration = data['duration']\n",
    "lat = data['lat']\n",
    "lon = data['lon']\n",
    "shape = pd.get_dummies(data['shape'])\n",
    "color = pd.get_dummies(data['color'])\n",
    "weekday = pd.get_dummies(data['weekday'])\n",
    "month = pd.get_dummies(data['month'])\n",
    "hour = pd.get_dummies(data['hour'])\n",
    "year = pd.get_dummies(data['year'])\n",
    "yearday = pd.get_dummies(data['yearday'])\n",
    "x = pd.concat([duration,lat,lon,shape,color,weekday,month,hour,year,yearday],axis=1)\n",
    "\n",
    "def get_redundant_pairs(x):\n",
    "    \"\"\"Get diagonal and lower triangular pairs of the correlation matrix.\"\"\"\n",
    "    pairs_to_drop = set()\n",
    "    cols = x.columns\n",
    "    for i in range(0, x.shape[1]):\n",
    "        for j in range(0, i+1):\n",
    "            pairs_to_drop.add((cols[i], cols[j]))\n",
    "    return pairs_to_drop\n",
    "\n",
    "def get_top_abs_correlations(x, n=15):\n",
    "    au_corr = x.corr().abs().unstack()\n",
    "    labels_to_drop = get_redundant_pairs(x)\n",
    "    au_corr = au_corr.drop(labels=labels_to_drop).sort_values(ascending=False)\n",
    "    return au_corr[0:n]\n",
    "\n",
    "import warnings\n",
    "warnings.filterwarnings('ignore')\n",
    "get_top_abs_correlations(x, n=15)"
   ]
  },
  {
   "cell_type": "markdown",
   "metadata": {},
   "source": [
    "I borrowed the above methods from <a href=\"https://stackoverflow.com/questions/17778394/list-highest-correlation-pairs-from-a-large-correlation-matrix-in-pandas\n",
    "\">StackOverflow</a>. These functions sort out the top correlations from the dataset, which in all honesty are a bit alarming for believers and UFO enthusiasts! I was able to pinpoint nearly all of these top correlations to US holidays!\n",
    "\n",
    "<ul>\n",
    "<li>Jan 1.0 - New Year's Day</li>\n",
    "<li>Jul 185.0 and 186.0 - Independence Day (US)</li>\n",
    "<li>Jun 166.0 - Flag Day (US)</li>\n",
    "<li>Dec 365.0 - New Year's Eve</li>\n",
    "<li>Aug 227.0 - National Airborne Day (US)</li>\n",
    "<li>Nov 311.0 - (???)</li>\n",
    "<li>May 135.0 - Peace Officers Memorial Day (US) and  Armed Forces Day (US)</li>\n",
    "<li>Feb 46.0 - Valentine's Day</li>\n",
    "<li>Jul 196.0 - (???)</li>\n",
    "</ul>\n",
    "\n",
    "Typical celebrations for these dates are fireworks and air shows, two activities which could understandably be mistaken for UFOs. However, there are two highly correlated days of the year which I cannot account for and if anyone figures these two out please let me know!"
   ]
  },
  {
   "cell_type": "markdown",
   "metadata": {},
   "source": [
    "<h1 style=\"text-align:center;\">Modeling</h1>"
   ]
  },
  {
   "cell_type": "markdown",
   "metadata": {},
   "source": [
    "After taking a look at the UFO trends, let's take a step back and figure out what we'd like to be able to predict. For starters, there's no way of telling whether a sighting is a legitimate UFO or not, but we can use mass sightings as a metric for how <i>credible</i> a sighting is. This means that, if a sighting (same shape, location, and date) has been reported by multiple people then it is far more credible than one that has been reported by a single person. That isn't saying that single witness sightings aren't legitimate, but they certainly aren't as credible as sightings with multiple witnesses."
   ]
  },
  {
   "cell_type": "code",
   "execution_count": null,
   "metadata": {
    "collapsed": true
   },
   "outputs": [],
   "source": [
    "import datetime\n",
    "\n",
    "data = data.dropna()\n",
    "data = data.reset_index(drop=True)\n",
    "data = data[['shape','lat','lon','datetime','summary']]\n",
    "data['datetime'] = data['datetime'].apply(lambda x: pd.Timestamp(x).date())\n",
    "data = data[(data['datetime'] <= datetime.date(2017, 1, 1))]\n",
    "    \n",
    "cols = ['shape', 'lat', 'lon', 'datetime']\n",
    "data['reports'] = data.groupby(cols).transform('count')\n",
    "data['credibility'] = np.where(data['reports']>=2, 'High', 'Low')"
   ]
  },
  {
   "cell_type": "markdown",
   "metadata": {},
   "source": [
    "What I've done now is grouped the data by shape, location, and datetime data in order to count sightings with more than one report. Two new columns have been added as a result. The first is data['reports'], which lists the number of sightings for a specific UFO. The second is data['credibility'] which performs a binary classifications of reports as either High or Low based on whether a specific sighting has multiple reports versus a single report."
   ]
  },
  {
   "cell_type": "code",
   "execution_count": null,
   "metadata": {},
   "outputs": [],
   "source": [
    "import sklearn\n",
    "from sklearn.svm import LinearSVC\n",
    "from sklearn.metrics import classification_report\n",
    "from sklearn.model_selection import train_test_split\n",
    "from sklearn.calibration import CalibratedClassifierCV\n",
    "from sklearn.feature_extraction.text import TfidfVectorizer\n",
    "\n",
    "#Define features (summaries) and labels (credibilities)\n",
    "summaries = data['summary']\n",
    "credibilities = data['credibility']\n",
    "\n",
    "#Vectorize features, aka text summaries.\n",
    "vectorizer = TfidfVectorizer(ngram_range=(1,3), min_df=5)\n",
    "vectors = vectorizer.fit_transform(summaries)\n",
    "\n",
    "f_train, f_test, l_train, l_test = train_test_split(vectors, credibilities, test_size = 0.3)\n",
    "svm = LinearSVC(C=0.7, class_weight='balanced')\n",
    "clf = CalibratedClassifierCV(svm)\n",
    "clf.fit(f_train, l_train)"
   ]
  },
  {
   "cell_type": "markdown",
   "metadata": {},
   "source": [
    "I first vectorize summaries and use a Support Vector Classifier (LinearSVC was preferred over SVC(kernel='linear') due to speed differences on my laptop.) to create a binary classification model for predicting whether a UFO sighting has a high or low credibility rating based solely off of the description provided by the witness. After vectorizing the summary text, the dataset is split into a training and testing set so we can fit the model. I've chosen to use CalibratedClassifierCV() so that I can output probabilities from LinearSVC() since, for some reason, the probability parameter is not available for this function the way it is for SVC(). "
   ]
  },
  {
   "cell_type": "code",
   "execution_count": null,
   "metadata": {},
   "outputs": [],
   "source": [
    "\"\"\"Training Data Predictions.\"\"\"\n",
    "pred_train = clf.predict(f_train)\n",
    "print(classification_report(l_train, pred_train))"
   ]
  },
  {
   "cell_type": "markdown",
   "metadata": {},
   "source": [
    "The model does a great job making predictions on the training set, so let's try it out on the testing set."
   ]
  },
  {
   "cell_type": "code",
   "execution_count": null,
   "metadata": {},
   "outputs": [],
   "source": [
    "\"\"\"Testing Data Predictions.\"\"\"\n",
    "pred_test = clf.predict(f_test)\n",
    "print(classification_report(l_test, pred_test))"
   ]
  },
  {
   "cell_type": "markdown",
   "metadata": {},
   "source": [
    "It's unfortunate that the recall score for High credibility ratings took such an enormous hit on the test set, however, the model should do what it's designed to do, which is calculate the probability of a specific sighting description being of high credibility or not. Again, nothing to do with proving legitimacy, just estimating credibility. Let's just take a look at some specific cases to see how it can/should be used!"
   ]
  },
  {
   "cell_type": "code",
   "execution_count": null,
   "metadata": {
    "collapsed": true
   },
   "outputs": [],
   "source": [
    "\"\"\"Using the model: Percent chance credibilities.\"\"\"\n",
    "fake = [\"I saw a white flying saucer heading southeast while I was out with my dog.\\\n",
    "         It hovered for a bit before disappearing. I haven't told anyone else about it.\"] # I wrote this, haha...\n",
    "\n",
    "real = [\"My wife and I were walking our dogs on the south side of South Mountain\\\n",
    "        in the mountain park when we saw the ufo come over the mountain at low\\\n",
    "        altitude (500'appx) headed southbound.  It was s i l e n t and had 5 white\\\n",
    "        globes along the leading edge of a black triangle shaped object which blacked\\\n",
    "        out the stars and was about a mile wide.\"] # description from a sighting with multiple reports... \n",
    "\n",
    "def credibility(summary):\n",
    "    \"\"\"String needs to be in a list, e.g. [Description]\"\"\"\n",
    "    s = vectorizer.transform(summary)\n",
    "    y_proba = clf.predict_proba(s)\n",
    "    prob = y_proba[0][0]*100\n",
    "    if prob > 30.0: #50% too large since even mass sightings will be around 55-60%\n",
    "        return print(\"High credibility: \" + \"%.2f\" % (y_proba[0][0]*100) + \"%\")\n",
    "    else:\n",
    "        return print(\"Low credibility: \" + \"%.2f\" % (y_proba[0][0]*100) + \"%\")"
   ]
  },
  {
   "cell_type": "markdown",
   "metadata": {},
   "source": [
    "The above method can be used to help make decisions on whether a particular sighting is significant or not, but of course this is just a trained guess and should not be taken as the absolute truth as to whether or not the witness observed a legitimate UFO."
   ]
  },
  {
   "cell_type": "code",
   "execution_count": null,
   "metadata": {},
   "outputs": [],
   "source": [
    "credibility(fake) #credibility percentage of a fake sighting\n",
    "credibility(real) #credibility percentage of a real, mass sighting"
   ]
  },
  {
   "cell_type": "markdown",
   "metadata": {},
   "source": [
    "We now have a basic model for assessing the credibility of UFO witness descriptions. Given limited interest in the project, I won't be working on improving the model, but techniques such as further feature extraction and regularization could certainly help improve its accuracy and recall scores. Furthermore, since there aren't many sightings with multiple witnesses, the labels are very imbalanced and the model is in sore need of more mass sightings to train on. With that said, let's look into mass sightings in more detail."
   ]
  },
  {
   "cell_type": "markdown",
   "metadata": {},
   "source": [
    "<h1 style=\"text-align:center;\">Deeper Look at Mass Sightings</h1>"
   ]
  },
  {
   "cell_type": "markdown",
   "metadata": {},
   "source": [
    "<h1 style=\"text-align:center;\">Conclusions</h1>"
   ]
  },
  {
   "cell_type": "markdown",
   "metadata": {},
   "source": [
    "<ul>\n",
    "<li>Most sightings are of 'light' shaped objects.</li>\n",
    "<li>Most sightings in the NUFORC database originate from the northeastern United States.</li>\n",
    "<li>Most sightings occur between 6:00 P.M. and 1:00 A.M.</li>\n",
    "<li>Most sightings occur on Saturdays during the summer season.</li>\n",
    "<li>Sightings are strongly correlated with US holidays exhibiting fireworks and airshow displays.</li>\n",
    "<li>The credibility of a sighting can be estimated by a model trained on descriptions given for sightings with multiple reports, i.e. mass sightings.</li>\n",
    "</ul>"
   ]
  },
  {
   "cell_type": "code",
   "execution_count": null,
   "metadata": {
    "collapsed": true
   },
   "outputs": [],
   "source": []
  }
 ],
 "metadata": {
  "kernelspec": {
   "display_name": "Python 3",
   "language": "python",
   "name": "python3"
  },
  "language_info": {
   "codemirror_mode": {
    "name": "ipython",
    "version": 3
   },
   "file_extension": ".py",
   "mimetype": "text/x-python",
   "name": "python",
   "nbconvert_exporter": "python",
   "pygments_lexer": "ipython3",
   "version": "3.6.0"
  }
 },
 "nbformat": 4,
 "nbformat_minor": 2
}
