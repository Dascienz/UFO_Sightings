{
 "cells": [
  {
   "cell_type": "markdown",
   "metadata": {},
   "source": [
    "# Data Cleaning and Processing"
   ]
  },
  {
   "cell_type": "code",
   "execution_count": 1,
   "metadata": {},
   "outputs": [],
   "source": [
    "import os\n",
    "import re\n",
    "import sys\n",
    "import numpy as np\n",
    "import pandas as pd"
   ]
  },
  {
   "cell_type": "code",
   "execution_count": 2,
   "metadata": {},
   "outputs": [
    {
     "name": "stdout",
     "output_type": "stream",
     "text": [
      "3.6.6 |Anaconda custom (64-bit)| (default, Jun 28 2018, 11:27:44) [MSC v.1900 64 bit (AMD64)]\n"
     ]
    }
   ],
   "source": [
    "print(sys.version)"
   ]
  },
  {
   "cell_type": "code",
   "execution_count": 3,
   "metadata": {},
   "outputs": [],
   "source": [
    "data = pd.read_csv(os.getcwd() + '/data/nuforc_reports_07202018.csv', sep=',') #import scraped results"
   ]
  },
  {
   "cell_type": "code",
   "execution_count": 4,
   "metadata": {},
   "outputs": [
    {
     "data": {
      "text/html": [
       "<div>\n",
       "<table border=\"1\" class=\"dataframe\">\n",
       "  <thead>\n",
       "    <tr style=\"text-align: right;\">\n",
       "      <th></th>\n",
       "      <th>Occurred</th>\n",
       "      <th>Reported</th>\n",
       "      <th>Posted</th>\n",
       "      <th>Location</th>\n",
       "      <th>Shape</th>\n",
       "      <th>Duration</th>\n",
       "      <th>Report</th>\n",
       "    </tr>\n",
       "  </thead>\n",
       "  <tbody>\n",
       "    <tr>\n",
       "      <th>0</th>\n",
       "      <td>6/24/1996 00:30</td>\n",
       "      <td>6/26/1996 12:42</td>\n",
       "      <td>11/2/1999</td>\n",
       "      <td>Aurora, CO</td>\n",
       "      <td>changed</td>\n",
       "      <td>1 hour</td>\n",
       "      <td>Referred to Marilyn Childs to call CO state di...</td>\n",
       "    </tr>\n",
       "    <tr>\n",
       "      <th>1</th>\n",
       "      <td>7/17/2018 03:20  (Entered as: 07/17/18 3:20)</td>\n",
       "      <td>7/17/2018 3:07:02 AM 03:07</td>\n",
       "      <td>7/19/2018</td>\n",
       "      <td>Phoenix, AZ</td>\n",
       "      <td>NaN</td>\n",
       "      <td>1 minute</td>\n",
       "      <td>Silent red lights float over interstate 17Whil...</td>\n",
       "    </tr>\n",
       "    <tr>\n",
       "      <th>2</th>\n",
       "      <td>5/15/2018 21:30  (Entered as: 05/16/18 09:30)</td>\n",
       "      <td>5/16/2018 12:57:43 AM 00:57</td>\n",
       "      <td>5/31/2018</td>\n",
       "      <td>Reno, NV</td>\n",
       "      <td>NaN</td>\n",
       "      <td>20 minutes</td>\n",
       "      <td>Hi, I’m a huge skeptic who wants to believe, a...</td>\n",
       "    </tr>\n",
       "    <tr>\n",
       "      <th>3</th>\n",
       "      <td>5/20/2018 13:00  (Entered as: 05/20/2018 13:00)</td>\n",
       "      <td>5/23/2018 5:32:16 AM 05:32</td>\n",
       "      <td>5/31/2018</td>\n",
       "      <td>Johnstown, PA</td>\n",
       "      <td>NaN</td>\n",
       "      <td>10 seconds</td>\n",
       "      <td>My name is ((name deleted)) and I live in Camb...</td>\n",
       "    </tr>\n",
       "    <tr>\n",
       "      <th>4</th>\n",
       "      <td>5/20/2018 13:10  (Entered as: 05/20/18 13:10)</td>\n",
       "      <td>6/1/2018 2:06:25 PM 14:06</td>\n",
       "      <td>6/7/2018</td>\n",
       "      <td>Helena, MT</td>\n",
       "      <td>NaN</td>\n",
       "      <td>NaN</td>\n",
       "      <td>MADAR Node 128</td>\n",
       "    </tr>\n",
       "  </tbody>\n",
       "</table>\n",
       "</div>"
      ],
      "text/plain": [
       "                                          Occurred  \\\n",
       "0                                  6/24/1996 00:30   \n",
       "1     7/17/2018 03:20  (Entered as: 07/17/18 3:20)   \n",
       "2    5/15/2018 21:30  (Entered as: 05/16/18 09:30)   \n",
       "3  5/20/2018 13:00  (Entered as: 05/20/2018 13:00)   \n",
       "4    5/20/2018 13:10  (Entered as: 05/20/18 13:10)   \n",
       "\n",
       "                      Reported     Posted       Location    Shape    Duration  \\\n",
       "0              6/26/1996 12:42  11/2/1999     Aurora, CO  changed      1 hour   \n",
       "1   7/17/2018 3:07:02 AM 03:07  7/19/2018    Phoenix, AZ      NaN    1 minute   \n",
       "2  5/16/2018 12:57:43 AM 00:57  5/31/2018       Reno, NV      NaN  20 minutes   \n",
       "3   5/23/2018 5:32:16 AM 05:32  5/31/2018  Johnstown, PA      NaN  10 seconds   \n",
       "4    6/1/2018 2:06:25 PM 14:06   6/7/2018     Helena, MT      NaN         NaN   \n",
       "\n",
       "                                              Report  \n",
       "0  Referred to Marilyn Childs to call CO state di...  \n",
       "1  Silent red lights float over interstate 17Whil...  \n",
       "2  Hi, I’m a huge skeptic who wants to believe, a...  \n",
       "3  My name is ((name deleted)) and I live in Camb...  \n",
       "4                                     MADAR Node 128  "
      ]
     },
     "execution_count": 4,
     "metadata": {},
     "output_type": "execute_result"
    }
   ],
   "source": [
    "data.head()"
   ]
  },
  {
   "cell_type": "markdown",
   "metadata": {},
   "source": [
    "## Dealing with null values"
   ]
  },
  {
   "cell_type": "code",
   "execution_count": 5,
   "metadata": {},
   "outputs": [
    {
     "data": {
      "text/plain": [
       "Occurred      0.0439303\n",
       "Reported              0\n",
       "Posted                0\n",
       "Location       0.114563\n",
       "Shape           3.18193\n",
       "Duration        3.38522\n",
       "Report      0.000861378\n",
       "Name: count, dtype: object"
      ]
     },
     "execution_count": 5,
     "metadata": {},
     "output_type": "execute_result"
    }
   ],
   "source": [
    "NULL = 100 * (data.shape[0] - data.describe().T['count']) / data.shape[0]; # percent of null values in each column\n",
    "NULL"
   ]
  },
  {
   "cell_type": "code",
   "execution_count": 6,
   "metadata": {},
   "outputs": [],
   "source": [
    "data = data.dropna() #drop null values (roughly 3.4% of the original row count)\n",
    "data = data.reset_index(drop=True) #reset index values"
   ]
  },
  {
   "cell_type": "markdown",
   "metadata": {},
   "source": [
    "## Dealing with messy datetimes"
   ]
  },
  {
   "cell_type": "code",
   "execution_count": 7,
   "metadata": {},
   "outputs": [
    {
     "data": {
      "text/html": [
       "<div>\n",
       "<table border=\"1\" class=\"dataframe\">\n",
       "  <thead>\n",
       "    <tr style=\"text-align: right;\">\n",
       "      <th></th>\n",
       "      <th>Occurred</th>\n",
       "      <th>Reported</th>\n",
       "      <th>Posted</th>\n",
       "      <th>Location</th>\n",
       "      <th>Shape</th>\n",
       "      <th>Duration</th>\n",
       "      <th>Report</th>\n",
       "    </tr>\n",
       "  </thead>\n",
       "  <tbody>\n",
       "    <tr>\n",
       "      <th>0</th>\n",
       "      <td>6/24/1996 00:30</td>\n",
       "      <td>6/26/1996 12:42</td>\n",
       "      <td>11/2/1999</td>\n",
       "      <td>Aurora, CO</td>\n",
       "      <td>changed</td>\n",
       "      <td>1 hour</td>\n",
       "      <td>Referred to Marilyn Childs to call CO state di...</td>\n",
       "    </tr>\n",
       "    <tr>\n",
       "      <th>1</th>\n",
       "      <td>(Entered as: unknown)</td>\n",
       "      <td>3/21/2006 12:11:10 PM 12:11</td>\n",
       "      <td>5/15/2006</td>\n",
       "      <td>Bristol, PA</td>\n",
       "      <td>Light</td>\n",
       "      <td>About 1 min.</td>\n",
       "      <td>Hi, I am an avid sky watcher and usually I not...</td>\n",
       "    </tr>\n",
       "    <tr>\n",
       "      <th>2</th>\n",
       "      <td>00:45  (Entered as: 05# 0:45)</td>\n",
       "      <td>5/16/2015 12:34:36 AM 00:34</td>\n",
       "      <td>5/22/2015</td>\n",
       "      <td>Saskatoon (Canada), SK</td>\n",
       "      <td>Light</td>\n",
       "      <td>2 minutes</td>\n",
       "      <td>We seemed to know to look up and and for me it...</td>\n",
       "    </tr>\n",
       "    <tr>\n",
       "      <th>3</th>\n",
       "      <td>01:00  (Entered as: 01:00)</td>\n",
       "      <td>10/21/2001 11:50:39 AM 11:50</td>\n",
       "      <td>11/20/2001</td>\n",
       "      <td>Dublin (Republic of Ireland)</td>\n",
       "      <td>Light</td>\n",
       "      <td>a few seconds</td>\n",
       "      <td>A ball of light, lighting up my pitch dark roo...</td>\n",
       "    </tr>\n",
       "    <tr>\n",
       "      <th>4</th>\n",
       "      <td>01:00  (Entered as: Continious fall \\'98-sprin...</td>\n",
       "      <td>9/2/1999 09:52</td>\n",
       "      <td>2/5/2003</td>\n",
       "      <td>Careywood &amp; Bayview (Pend Oreille Lake), ID</td>\n",
       "      <td>Light</td>\n",
       "      <td>few minutes</td>\n",
       "      <td>Ball of light similiar to reported \"Earht Ligh...</td>\n",
       "    </tr>\n",
       "  </tbody>\n",
       "</table>\n",
       "</div>"
      ],
      "text/plain": [
       "                                            Occurred  \\\n",
       "0                                    6/24/1996 00:30   \n",
       "1                              (Entered as: unknown)   \n",
       "2                      00:45  (Entered as: 05# 0:45)   \n",
       "3                         01:00  (Entered as: 01:00)   \n",
       "4  01:00  (Entered as: Continious fall \\'98-sprin...   \n",
       "\n",
       "                       Reported      Posted  \\\n",
       "0               6/26/1996 12:42   11/2/1999   \n",
       "1   3/21/2006 12:11:10 PM 12:11   5/15/2006   \n",
       "2   5/16/2015 12:34:36 AM 00:34   5/22/2015   \n",
       "3  10/21/2001 11:50:39 AM 11:50  11/20/2001   \n",
       "4                9/2/1999 09:52    2/5/2003   \n",
       "\n",
       "                                      Location    Shape       Duration  \\\n",
       "0                                   Aurora, CO  changed         1 hour   \n",
       "1                                  Bristol, PA    Light   About 1 min.   \n",
       "2                       Saskatoon (Canada), SK    Light      2 minutes   \n",
       "3                 Dublin (Republic of Ireland)    Light  a few seconds   \n",
       "4  Careywood & Bayview (Pend Oreille Lake), ID    Light    few minutes   \n",
       "\n",
       "                                              Report  \n",
       "0  Referred to Marilyn Childs to call CO state di...  \n",
       "1  Hi, I am an avid sky watcher and usually I not...  \n",
       "2  We seemed to know to look up and and for me it...  \n",
       "3  A ball of light, lighting up my pitch dark roo...  \n",
       "4  Ball of light similiar to reported \"Earht Ligh...  "
      ]
     },
     "execution_count": 7,
     "metadata": {},
     "output_type": "execute_result"
    }
   ],
   "source": [
    "data.head()"
   ]
  },
  {
   "cell_type": "markdown",
   "metadata": {},
   "source": [
    "The occurred column can be problematic. Reported and posted dates and times are well formatted."
   ]
  },
  {
   "cell_type": "code",
   "execution_count": 8,
   "metadata": {},
   "outputs": [],
   "source": [
    "pattern = '(\\d+\\/\\d+\\/\\d+ \\d+:\\d+)|(\\d+\\/\\d+\\/\\d+)|(\\d+:\\d+)|(\\d+ \\d+)|\\(Entered as:(.*?)\\)' #grab datetimes\n",
    "data['Occurred'] = data['Occurred'].apply(lambda x: list(filter(None,re.findall(pattern, str(x))[0]))[0]) #filter"
   ]
  },
  {
   "cell_type": "code",
   "execution_count": 9,
   "metadata": {},
   "outputs": [
    {
     "data": {
      "text/html": [
       "<div>\n",
       "<table border=\"1\" class=\"dataframe\">\n",
       "  <thead>\n",
       "    <tr style=\"text-align: right;\">\n",
       "      <th></th>\n",
       "      <th>Occurred</th>\n",
       "      <th>Reported</th>\n",
       "      <th>Posted</th>\n",
       "      <th>Location</th>\n",
       "      <th>Shape</th>\n",
       "      <th>Duration</th>\n",
       "      <th>Report</th>\n",
       "    </tr>\n",
       "  </thead>\n",
       "  <tbody>\n",
       "    <tr>\n",
       "      <th>0</th>\n",
       "      <td>6/24/1996 00:30</td>\n",
       "      <td>6/26/1996 12:42</td>\n",
       "      <td>11/2/1999</td>\n",
       "      <td>Aurora, CO</td>\n",
       "      <td>changed</td>\n",
       "      <td>1 hour</td>\n",
       "      <td>Referred to Marilyn Childs to call CO state di...</td>\n",
       "    </tr>\n",
       "    <tr>\n",
       "      <th>1</th>\n",
       "      <td>unknown</td>\n",
       "      <td>3/21/2006 12:11:10 PM 12:11</td>\n",
       "      <td>5/15/2006</td>\n",
       "      <td>Bristol, PA</td>\n",
       "      <td>Light</td>\n",
       "      <td>About 1 min.</td>\n",
       "      <td>Hi, I am an avid sky watcher and usually I not...</td>\n",
       "    </tr>\n",
       "    <tr>\n",
       "      <th>2</th>\n",
       "      <td>00:45</td>\n",
       "      <td>5/16/2015 12:34:36 AM 00:34</td>\n",
       "      <td>5/22/2015</td>\n",
       "      <td>Saskatoon (Canada), SK</td>\n",
       "      <td>Light</td>\n",
       "      <td>2 minutes</td>\n",
       "      <td>We seemed to know to look up and and for me it...</td>\n",
       "    </tr>\n",
       "    <tr>\n",
       "      <th>3</th>\n",
       "      <td>01:00</td>\n",
       "      <td>10/21/2001 11:50:39 AM 11:50</td>\n",
       "      <td>11/20/2001</td>\n",
       "      <td>Dublin (Republic of Ireland)</td>\n",
       "      <td>Light</td>\n",
       "      <td>a few seconds</td>\n",
       "      <td>A ball of light, lighting up my pitch dark roo...</td>\n",
       "    </tr>\n",
       "    <tr>\n",
       "      <th>4</th>\n",
       "      <td>01:00</td>\n",
       "      <td>9/2/1999 09:52</td>\n",
       "      <td>2/5/2003</td>\n",
       "      <td>Careywood &amp; Bayview (Pend Oreille Lake), ID</td>\n",
       "      <td>Light</td>\n",
       "      <td>few minutes</td>\n",
       "      <td>Ball of light similiar to reported \"Earht Ligh...</td>\n",
       "    </tr>\n",
       "  </tbody>\n",
       "</table>\n",
       "</div>"
      ],
      "text/plain": [
       "          Occurred                      Reported      Posted  \\\n",
       "0  6/24/1996 00:30               6/26/1996 12:42   11/2/1999   \n",
       "1          unknown   3/21/2006 12:11:10 PM 12:11   5/15/2006   \n",
       "2            00:45   5/16/2015 12:34:36 AM 00:34   5/22/2015   \n",
       "3            01:00  10/21/2001 11:50:39 AM 11:50  11/20/2001   \n",
       "4            01:00                9/2/1999 09:52    2/5/2003   \n",
       "\n",
       "                                      Location    Shape       Duration  \\\n",
       "0                                   Aurora, CO  changed         1 hour   \n",
       "1                                  Bristol, PA    Light   About 1 min.   \n",
       "2                       Saskatoon (Canada), SK    Light      2 minutes   \n",
       "3                 Dublin (Republic of Ireland)    Light  a few seconds   \n",
       "4  Careywood & Bayview (Pend Oreille Lake), ID    Light    few minutes   \n",
       "\n",
       "                                              Report  \n",
       "0  Referred to Marilyn Childs to call CO state di...  \n",
       "1  Hi, I am an avid sky watcher and usually I not...  \n",
       "2  We seemed to know to look up and and for me it...  \n",
       "3  A ball of light, lighting up my pitch dark roo...  \n",
       "4  Ball of light similiar to reported \"Earht Ligh...  "
      ]
     },
     "execution_count": 9,
     "metadata": {},
     "output_type": "execute_result"
    }
   ],
   "source": [
    "data.head()"
   ]
  },
  {
   "cell_type": "code",
   "execution_count": 10,
   "metadata": {},
   "outputs": [],
   "source": [
    "def time_picker(series):\n",
    "    #PICK OUT TIME STRINGS FROM DATETIMES\n",
    "    times = {}\n",
    "    for t in series.unique():\n",
    "        try:\n",
    "            times[t] = re.findall('\\d+:\\d+', t)[0]\n",
    "        except:\n",
    "            times[t] = np.nan\n",
    "    return series.map(times)"
   ]
  },
  {
   "cell_type": "code",
   "execution_count": 11,
   "metadata": {},
   "outputs": [],
   "source": [
    "data['Sighting Time'] = time_picker(data['Occurred']) #find original sighting times\n",
    "data['Report Time'] = time_picker(data['Reported']) #fight times that sightings were reported"
   ]
  },
  {
   "cell_type": "code",
   "execution_count": 12,
   "metadata": {},
   "outputs": [
    {
     "data": {
      "text/html": [
       "<div>\n",
       "<table border=\"1\" class=\"dataframe\">\n",
       "  <thead>\n",
       "    <tr style=\"text-align: right;\">\n",
       "      <th></th>\n",
       "      <th>Occurred</th>\n",
       "      <th>Reported</th>\n",
       "      <th>Posted</th>\n",
       "      <th>Location</th>\n",
       "      <th>Shape</th>\n",
       "      <th>Duration</th>\n",
       "      <th>Report</th>\n",
       "      <th>Sighting Time</th>\n",
       "      <th>Report Time</th>\n",
       "    </tr>\n",
       "  </thead>\n",
       "  <tbody>\n",
       "    <tr>\n",
       "      <th>0</th>\n",
       "      <td>6/24/1996 00:30</td>\n",
       "      <td>6/26/1996 12:42</td>\n",
       "      <td>11/2/1999</td>\n",
       "      <td>Aurora, CO</td>\n",
       "      <td>changed</td>\n",
       "      <td>1 hour</td>\n",
       "      <td>Referred to Marilyn Childs to call CO state di...</td>\n",
       "      <td>00:30</td>\n",
       "      <td>12:42</td>\n",
       "    </tr>\n",
       "    <tr>\n",
       "      <th>1</th>\n",
       "      <td>unknown</td>\n",
       "      <td>3/21/2006 12:11:10 PM 12:11</td>\n",
       "      <td>5/15/2006</td>\n",
       "      <td>Bristol, PA</td>\n",
       "      <td>Light</td>\n",
       "      <td>About 1 min.</td>\n",
       "      <td>Hi, I am an avid sky watcher and usually I not...</td>\n",
       "      <td>NaN</td>\n",
       "      <td>12:11</td>\n",
       "    </tr>\n",
       "    <tr>\n",
       "      <th>2</th>\n",
       "      <td>00:45</td>\n",
       "      <td>5/16/2015 12:34:36 AM 00:34</td>\n",
       "      <td>5/22/2015</td>\n",
       "      <td>Saskatoon (Canada), SK</td>\n",
       "      <td>Light</td>\n",
       "      <td>2 minutes</td>\n",
       "      <td>We seemed to know to look up and and for me it...</td>\n",
       "      <td>00:45</td>\n",
       "      <td>12:34</td>\n",
       "    </tr>\n",
       "    <tr>\n",
       "      <th>3</th>\n",
       "      <td>01:00</td>\n",
       "      <td>10/21/2001 11:50:39 AM 11:50</td>\n",
       "      <td>11/20/2001</td>\n",
       "      <td>Dublin (Republic of Ireland)</td>\n",
       "      <td>Light</td>\n",
       "      <td>a few seconds</td>\n",
       "      <td>A ball of light, lighting up my pitch dark roo...</td>\n",
       "      <td>01:00</td>\n",
       "      <td>11:50</td>\n",
       "    </tr>\n",
       "    <tr>\n",
       "      <th>4</th>\n",
       "      <td>01:00</td>\n",
       "      <td>9/2/1999 09:52</td>\n",
       "      <td>2/5/2003</td>\n",
       "      <td>Careywood &amp; Bayview (Pend Oreille Lake), ID</td>\n",
       "      <td>Light</td>\n",
       "      <td>few minutes</td>\n",
       "      <td>Ball of light similiar to reported \"Earht Ligh...</td>\n",
       "      <td>01:00</td>\n",
       "      <td>09:52</td>\n",
       "    </tr>\n",
       "  </tbody>\n",
       "</table>\n",
       "</div>"
      ],
      "text/plain": [
       "          Occurred                      Reported      Posted  \\\n",
       "0  6/24/1996 00:30               6/26/1996 12:42   11/2/1999   \n",
       "1          unknown   3/21/2006 12:11:10 PM 12:11   5/15/2006   \n",
       "2            00:45   5/16/2015 12:34:36 AM 00:34   5/22/2015   \n",
       "3            01:00  10/21/2001 11:50:39 AM 11:50  11/20/2001   \n",
       "4            01:00                9/2/1999 09:52    2/5/2003   \n",
       "\n",
       "                                      Location    Shape       Duration  \\\n",
       "0                                   Aurora, CO  changed         1 hour   \n",
       "1                                  Bristol, PA    Light   About 1 min.   \n",
       "2                       Saskatoon (Canada), SK    Light      2 minutes   \n",
       "3                 Dublin (Republic of Ireland)    Light  a few seconds   \n",
       "4  Careywood & Bayview (Pend Oreille Lake), ID    Light    few minutes   \n",
       "\n",
       "                                              Report Sighting Time Report Time  \n",
       "0  Referred to Marilyn Childs to call CO state di...         00:30       12:42  \n",
       "1  Hi, I am an avid sky watcher and usually I not...           NaN       12:11  \n",
       "2  We seemed to know to look up and and for me it...         00:45       12:34  \n",
       "3  A ball of light, lighting up my pitch dark roo...         01:00       11:50  \n",
       "4  Ball of light similiar to reported \"Earht Ligh...         01:00       09:52  "
      ]
     },
     "execution_count": 12,
     "metadata": {},
     "output_type": "execute_result"
    }
   ],
   "source": [
    "data.head()"
   ]
  },
  {
   "cell_type": "code",
   "execution_count": 13,
   "metadata": {},
   "outputs": [],
   "source": [
    "def datetime_conversion(series):\n",
    "    #MAP DATETIMES FROM UNIQUE VALUES\n",
    "    datetimes = {t:pd.to_datetime(t, errors='coerce') for t in series.unique()}\n",
    "    return series.map(datetimes)"
   ]
  },
  {
   "cell_type": "code",
   "execution_count": 14,
   "metadata": {},
   "outputs": [],
   "source": [
    "for col in ['Occurred','Reported','Posted']:\n",
    "    data[col] = datetime_conversion(data[col])"
   ]
  },
  {
   "cell_type": "code",
   "execution_count": 15,
   "metadata": {},
   "outputs": [
    {
     "data": {
      "text/html": [
       "<div>\n",
       "<table border=\"1\" class=\"dataframe\">\n",
       "  <thead>\n",
       "    <tr style=\"text-align: right;\">\n",
       "      <th></th>\n",
       "      <th>Occurred</th>\n",
       "      <th>Reported</th>\n",
       "      <th>Posted</th>\n",
       "      <th>Location</th>\n",
       "      <th>Shape</th>\n",
       "      <th>Duration</th>\n",
       "      <th>Report</th>\n",
       "      <th>Sighting Time</th>\n",
       "      <th>Report Time</th>\n",
       "    </tr>\n",
       "  </thead>\n",
       "  <tbody>\n",
       "    <tr>\n",
       "      <th>0</th>\n",
       "      <td>1996-06-24 00:30:00</td>\n",
       "      <td>1996-06-26 12:42:00</td>\n",
       "      <td>1999-11-02</td>\n",
       "      <td>Aurora, CO</td>\n",
       "      <td>changed</td>\n",
       "      <td>1 hour</td>\n",
       "      <td>Referred to Marilyn Childs to call CO state di...</td>\n",
       "      <td>00:30</td>\n",
       "      <td>12:42</td>\n",
       "    </tr>\n",
       "    <tr>\n",
       "      <th>1</th>\n",
       "      <td>NaT</td>\n",
       "      <td>2006-03-21 12:11:00</td>\n",
       "      <td>2006-05-15</td>\n",
       "      <td>Bristol, PA</td>\n",
       "      <td>Light</td>\n",
       "      <td>About 1 min.</td>\n",
       "      <td>Hi, I am an avid sky watcher and usually I not...</td>\n",
       "      <td>NaN</td>\n",
       "      <td>12:11</td>\n",
       "    </tr>\n",
       "    <tr>\n",
       "      <th>2</th>\n",
       "      <td>2018-07-22 00:45:00</td>\n",
       "      <td>2015-05-16 00:34:00</td>\n",
       "      <td>2015-05-22</td>\n",
       "      <td>Saskatoon (Canada), SK</td>\n",
       "      <td>Light</td>\n",
       "      <td>2 minutes</td>\n",
       "      <td>We seemed to know to look up and and for me it...</td>\n",
       "      <td>00:45</td>\n",
       "      <td>12:34</td>\n",
       "    </tr>\n",
       "    <tr>\n",
       "      <th>3</th>\n",
       "      <td>2018-07-22 01:00:00</td>\n",
       "      <td>2001-10-21 11:50:00</td>\n",
       "      <td>2001-11-20</td>\n",
       "      <td>Dublin (Republic of Ireland)</td>\n",
       "      <td>Light</td>\n",
       "      <td>a few seconds</td>\n",
       "      <td>A ball of light, lighting up my pitch dark roo...</td>\n",
       "      <td>01:00</td>\n",
       "      <td>11:50</td>\n",
       "    </tr>\n",
       "    <tr>\n",
       "      <th>4</th>\n",
       "      <td>2018-07-22 01:00:00</td>\n",
       "      <td>1999-09-02 09:52:00</td>\n",
       "      <td>2003-02-05</td>\n",
       "      <td>Careywood &amp; Bayview (Pend Oreille Lake), ID</td>\n",
       "      <td>Light</td>\n",
       "      <td>few minutes</td>\n",
       "      <td>Ball of light similiar to reported \"Earht Ligh...</td>\n",
       "      <td>01:00</td>\n",
       "      <td>09:52</td>\n",
       "    </tr>\n",
       "  </tbody>\n",
       "</table>\n",
       "</div>"
      ],
      "text/plain": [
       "             Occurred            Reported     Posted  \\\n",
       "0 1996-06-24 00:30:00 1996-06-26 12:42:00 1999-11-02   \n",
       "1                 NaT 2006-03-21 12:11:00 2006-05-15   \n",
       "2 2018-07-22 00:45:00 2015-05-16 00:34:00 2015-05-22   \n",
       "3 2018-07-22 01:00:00 2001-10-21 11:50:00 2001-11-20   \n",
       "4 2018-07-22 01:00:00 1999-09-02 09:52:00 2003-02-05   \n",
       "\n",
       "                                      Location    Shape       Duration  \\\n",
       "0                                   Aurora, CO  changed         1 hour   \n",
       "1                                  Bristol, PA    Light   About 1 min.   \n",
       "2                       Saskatoon (Canada), SK    Light      2 minutes   \n",
       "3                 Dublin (Republic of Ireland)    Light  a few seconds   \n",
       "4  Careywood & Bayview (Pend Oreille Lake), ID    Light    few minutes   \n",
       "\n",
       "                                              Report Sighting Time Report Time  \n",
       "0  Referred to Marilyn Childs to call CO state di...         00:30       12:42  \n",
       "1  Hi, I am an avid sky watcher and usually I not...           NaN       12:11  \n",
       "2  We seemed to know to look up and and for me it...         00:45       12:34  \n",
       "3  A ball of light, lighting up my pitch dark roo...         01:00       11:50  \n",
       "4  Ball of light similiar to reported \"Earht Ligh...         01:00       09:52  "
      ]
     },
     "execution_count": 15,
     "metadata": {},
     "output_type": "execute_result"
    }
   ],
   "source": [
    "data.head()"
   ]
  },
  {
   "cell_type": "markdown",
   "metadata": {},
   "source": [
    "## Cleaning messy location data"
   ]
  },
  {
   "cell_type": "code",
   "execution_count": 16,
   "metadata": {},
   "outputs": [
    {
     "data": {
      "text/plain": [
       "array(['Aurora, CO', 'Bristol, PA', 'Saskatoon (Canada), SK', ...,\n",
       "       'Wilhelmshaven (Germany)', 'Harpster, OH',\n",
       "       'Oklahoma City (SW part), OK'], dtype=object)"
      ]
     },
     "execution_count": 16,
     "metadata": {},
     "output_type": "execute_result"
    }
   ],
   "source": [
    "data['Location'].unique()"
   ]
  },
  {
   "cell_type": "code",
   "execution_count": 17,
   "metadata": {},
   "outputs": [],
   "source": [
    "def location_cleaner(loc):\n",
    "    #CLEAN UP LOCATION STRINGS AND VAGUE TERMS\n",
    "    descriptors = ['north of','south of','east of','west of',\n",
    "                   'outside of','between','above','near','SW part',\n",
    "                   'NW part','SE part','NE part']\n",
    "    for r in ['?',', .']:\n",
    "        loc = loc.replace(r,'')  \n",
    "    if ('(' not in loc) or (')' not in loc):\n",
    "        return loc\n",
    "    else:\n",
    "        pattern = '\\(.*?\\)'\n",
    "        items = re.findall(pattern, loc)\n",
    "        for i, item in enumerate(items):\n",
    "            if item == '()':\n",
    "                loc = loc.replace(item,'')\n",
    "            if (len(item.split()) >= 3) or any(s in item for s in descriptors):\n",
    "                loc = loc.replace(item,'')\n",
    "        return re.sub(' +',' ',loc.replace(' ,',','))\n",
    "\n",
    "def location_mapper(series):\n",
    "    locations = {x:location_cleaner(x) for x in series.unique()} \n",
    "    return series.map(locations)"
   ]
  },
  {
   "cell_type": "code",
   "execution_count": 18,
   "metadata": {},
   "outputs": [],
   "source": [
    "data['Location'] = location_mapper(data['Location'])"
   ]
  },
  {
   "cell_type": "markdown",
   "metadata": {},
   "source": [
    "## Geocoding for latitude and longitude coordinates"
   ]
  },
  {
   "cell_type": "code",
   "execution_count": 19,
   "metadata": {},
   "outputs": [
    {
     "data": {
      "text/plain": [
       "109496"
      ]
     },
     "execution_count": 19,
     "metadata": {},
     "output_type": "execute_result"
    }
   ],
   "source": [
    "len(data.Location) #109,496 rows"
   ]
  },
  {
   "cell_type": "code",
   "execution_count": 20,
   "metadata": {},
   "outputs": [
    {
     "data": {
      "text/plain": [
       "28052"
      ]
     },
     "execution_count": 20,
     "metadata": {},
     "output_type": "execute_result"
    }
   ],
   "source": [
    "data['Location'].nunique() #only 28,052 unique locations... Let's be efficient about this!"
   ]
  },
  {
   "cell_type": "code",
   "execution_count": 21,
   "metadata": {},
   "outputs": [],
   "source": [
    "'''\n",
    "#GRABBING LAT-LON COORDINATES THROUGH GEOPY\n",
    "from time import sleep\n",
    "from geopy.exc import GeocoderTimedOut\n",
    "from geopy.geocoders import Nominatim\n",
    "\n",
    "geolocator = Nominatim()\n",
    "locations = data['Location'].unique()\n",
    "location_dict = {}\n",
    "\n",
    "lines = 0\n",
    "txt = os.getcwd() + '/data/lat-lon-coordinates.txt'\n",
    "out_file = open(txt, 'w')\n",
    "for idx, loc in enumerate(locations): \n",
    "    sleep(1.0) #Sleep for 1 second between each query.\n",
    "    if idx == 0: out_file.write('Index Location Latitude Longitude')\n",
    "    try:\n",
    "        geoLoc = geolocator.geocode(loc, timeout = 60)\n",
    "        out_file.write('\\n%s|%s|%s|%s' % (idx, loc, geoLoc.latitude, geoLoc.longitude))\n",
    "    except:\n",
    "        out_file.write('\\n%s|%s|%s|%s' % (idx, loc, 'NaN', 'NaN'))\n",
    "    lines += 1\n",
    "    print('{0}\\r'.format(lines), end='')\n",
    "out_file.close()\n",
    "''';"
   ]
  },
  {
   "cell_type": "code",
   "execution_count": 22,
   "metadata": {},
   "outputs": [],
   "source": [
    "df = pd.read_csv(os.getcwd() + '/data/lat-lon-coordinates.txt', sep='|', index_col=0, encoding='ISO-8859-1')\n",
    "lat_dict = dict(zip(df['Location'],df['Latitude']))\n",
    "lon_dict = dict(zip(df['Location'],df['Longitude']))"
   ]
  },
  {
   "cell_type": "code",
   "execution_count": 23,
   "metadata": {},
   "outputs": [],
   "source": [
    "data['Latitude'] = data['Location'].map(lat_dict)\n",
    "data['Longitude'] = data['Location'].map(lon_dict)\n",
    "data = data.replace({'NaN':np.nan}, regex=True)"
   ]
  },
  {
   "cell_type": "code",
   "execution_count": 24,
   "metadata": {},
   "outputs": [
    {
     "data": {
      "text/html": [
       "<div>\n",
       "<table border=\"1\" class=\"dataframe\">\n",
       "  <thead>\n",
       "    <tr style=\"text-align: right;\">\n",
       "      <th></th>\n",
       "      <th>Occurred</th>\n",
       "      <th>Reported</th>\n",
       "      <th>Posted</th>\n",
       "      <th>Location</th>\n",
       "      <th>Shape</th>\n",
       "      <th>Duration</th>\n",
       "      <th>Report</th>\n",
       "      <th>Sighting Time</th>\n",
       "      <th>Report Time</th>\n",
       "      <th>Latitude</th>\n",
       "      <th>Longitude</th>\n",
       "    </tr>\n",
       "  </thead>\n",
       "  <tbody>\n",
       "    <tr>\n",
       "      <th>0</th>\n",
       "      <td>1996-06-24 00:30:00</td>\n",
       "      <td>1996-06-26 12:42:00</td>\n",
       "      <td>1999-11-02</td>\n",
       "      <td>Aurora, CO</td>\n",
       "      <td>changed</td>\n",
       "      <td>1 hour</td>\n",
       "      <td>Referred to Marilyn Childs to call CO state di...</td>\n",
       "      <td>00:30</td>\n",
       "      <td>12:42</td>\n",
       "      <td>39.729432</td>\n",
       "      <td>-104.831920</td>\n",
       "    </tr>\n",
       "    <tr>\n",
       "      <th>1</th>\n",
       "      <td>NaT</td>\n",
       "      <td>2006-03-21 12:11:00</td>\n",
       "      <td>2006-05-15</td>\n",
       "      <td>Bristol, PA</td>\n",
       "      <td>Light</td>\n",
       "      <td>About 1 min.</td>\n",
       "      <td>Hi, I am an avid sky watcher and usually I not...</td>\n",
       "      <td>NaN</td>\n",
       "      <td>12:11</td>\n",
       "      <td>40.100666</td>\n",
       "      <td>-74.851831</td>\n",
       "    </tr>\n",
       "    <tr>\n",
       "      <th>2</th>\n",
       "      <td>2018-07-22 00:45:00</td>\n",
       "      <td>2015-05-16 00:34:00</td>\n",
       "      <td>2015-05-22</td>\n",
       "      <td>Saskatoon (Canada), SK</td>\n",
       "      <td>Light</td>\n",
       "      <td>2 minutes</td>\n",
       "      <td>We seemed to know to look up and and for me it...</td>\n",
       "      <td>00:45</td>\n",
       "      <td>12:34</td>\n",
       "      <td>52.157331</td>\n",
       "      <td>-106.529930</td>\n",
       "    </tr>\n",
       "    <tr>\n",
       "      <th>3</th>\n",
       "      <td>2018-07-22 01:00:00</td>\n",
       "      <td>2001-10-21 11:50:00</td>\n",
       "      <td>2001-11-20</td>\n",
       "      <td>Dublin</td>\n",
       "      <td>Light</td>\n",
       "      <td>a few seconds</td>\n",
       "      <td>A ball of light, lighting up my pitch dark roo...</td>\n",
       "      <td>01:00</td>\n",
       "      <td>11:50</td>\n",
       "      <td>53.349764</td>\n",
       "      <td>-6.260273</td>\n",
       "    </tr>\n",
       "    <tr>\n",
       "      <th>4</th>\n",
       "      <td>2018-07-22 01:00:00</td>\n",
       "      <td>1999-09-02 09:52:00</td>\n",
       "      <td>2003-02-05</td>\n",
       "      <td>Careywood &amp; Bayview, ID</td>\n",
       "      <td>Light</td>\n",
       "      <td>few minutes</td>\n",
       "      <td>Ball of light similiar to reported \"Earht Ligh...</td>\n",
       "      <td>01:00</td>\n",
       "      <td>09:52</td>\n",
       "      <td>NaN</td>\n",
       "      <td>NaN</td>\n",
       "    </tr>\n",
       "  </tbody>\n",
       "</table>\n",
       "</div>"
      ],
      "text/plain": [
       "             Occurred            Reported     Posted                 Location  \\\n",
       "0 1996-06-24 00:30:00 1996-06-26 12:42:00 1999-11-02               Aurora, CO   \n",
       "1                 NaT 2006-03-21 12:11:00 2006-05-15              Bristol, PA   \n",
       "2 2018-07-22 00:45:00 2015-05-16 00:34:00 2015-05-22   Saskatoon (Canada), SK   \n",
       "3 2018-07-22 01:00:00 2001-10-21 11:50:00 2001-11-20                  Dublin    \n",
       "4 2018-07-22 01:00:00 1999-09-02 09:52:00 2003-02-05  Careywood & Bayview, ID   \n",
       "\n",
       "     Shape       Duration                                             Report  \\\n",
       "0  changed         1 hour  Referred to Marilyn Childs to call CO state di...   \n",
       "1    Light   About 1 min.  Hi, I am an avid sky watcher and usually I not...   \n",
       "2    Light      2 minutes  We seemed to know to look up and and for me it...   \n",
       "3    Light  a few seconds  A ball of light, lighting up my pitch dark roo...   \n",
       "4    Light    few minutes  Ball of light similiar to reported \"Earht Ligh...   \n",
       "\n",
       "  Sighting Time Report Time   Latitude   Longitude  \n",
       "0         00:30       12:42  39.729432 -104.831920  \n",
       "1           NaN       12:11  40.100666  -74.851831  \n",
       "2         00:45       12:34  52.157331 -106.529930  \n",
       "3         01:00       11:50  53.349764   -6.260273  \n",
       "4         01:00       09:52        NaN         NaN  "
      ]
     },
     "execution_count": 24,
     "metadata": {},
     "output_type": "execute_result"
    }
   ],
   "source": [
    "data.head()"
   ]
  },
  {
   "cell_type": "markdown",
   "metadata": {},
   "source": [
    "## Cleaning up messy duration data"
   ]
  },
  {
   "cell_type": "code",
   "execution_count": 25,
   "metadata": {},
   "outputs": [],
   "source": [
    "def duration_cleaner(s):\n",
    "    #convert duration strings into minutes\n",
    "    s = s.replace('few', '3.5').replace('1/2','0.5') #use convention that a few translates to 2 - 5 seconds.\n",
    "    numericList = [\"(\\d+\\.\\d+)\",\"(\\d+)\"]\n",
    "    unitList = [\"se[cs]\", \"secon[ds]\",\"mi[ns]\", \"mi[mn]ut[es]\",\"h[rs]\", \"hou[rs]\"]\n",
    "    unitConversion = {'s': 1/60, 'm': 1, 'h': 60, '6': 60}\n",
    "    try:\n",
    "        match_1 = re.search(re.compile(\"|\".join(str(x) for x in numericList)), s).group(0)\n",
    "        match_2 = re.search(re.compile(\"|\".join(str(x) for x in unitList)), s.lower()).group(0)[0]\n",
    "        s = float(match_1) * unitConversion[match_2]\n",
    "    except:\n",
    "        s = np.nan\n",
    "    return s"
   ]
  },
  {
   "cell_type": "code",
   "execution_count": 26,
   "metadata": {},
   "outputs": [
    {
     "data": {
      "text/plain": [
       "'2-3 min'"
      ]
     },
     "execution_count": 26,
     "metadata": {},
     "output_type": "execute_result"
    }
   ],
   "source": [
    "data['Duration'][90]"
   ]
  },
  {
   "cell_type": "code",
   "execution_count": 27,
   "metadata": {},
   "outputs": [
    {
     "data": {
      "text/plain": [
       "2.0"
      ]
     },
     "execution_count": 27,
     "metadata": {},
     "output_type": "execute_result"
    }
   ],
   "source": [
    "duration_cleaner(data['Duration'][90])"
   ]
  },
  {
   "cell_type": "code",
   "execution_count": 28,
   "metadata": {},
   "outputs": [],
   "source": [
    "data['Duration'] = data['Duration'].apply(duration_cleaner)"
   ]
  },
  {
   "cell_type": "markdown",
   "metadata": {},
   "source": [
    "## Cleaning up messy shape categories"
   ]
  },
  {
   "cell_type": "code",
   "execution_count": 29,
   "metadata": {},
   "outputs": [],
   "source": [
    "def shape_capitalizer(series):\n",
    "    shapes = {x:x[0].upper()+x[1:].lower() for x in series.unique()}\n",
    "    return series.map(shapes)"
   ]
  },
  {
   "cell_type": "code",
   "execution_count": 30,
   "metadata": {},
   "outputs": [],
   "source": [
    "data['Shape'] = shape_capitalizer(data['Shape'])"
   ]
  },
  {
   "cell_type": "code",
   "execution_count": 31,
   "metadata": {},
   "outputs": [
    {
     "data": {
      "text/plain": [
       "Light         23089\n",
       "Circle        11559\n",
       "Triangle      10538\n",
       "Fireball       8660\n",
       "Unknown        7879\n",
       "Other          7790\n",
       "Sphere         7537\n",
       "Disk           6874\n",
       "Oval           5038\n",
       "Formation      3547\n",
       "Changing       2751\n",
       "Cigar          2723\n",
       "Flash          2015\n",
       "Rectangle      1882\n",
       "Cylinder       1749\n",
       "Diamond        1666\n",
       "Chevron        1335\n",
       "Egg            1018\n",
       "Teardrop       1016\n",
       "Cone            468\n",
       "Cross           345\n",
       "Delta             7\n",
       "Round             2\n",
       "Crescent          2\n",
       "Hexagon           1\n",
       "Pyramid           1\n",
       "Changed           1\n",
       "Triangular        1\n",
       "Flare             1\n",
       "Dome              1\n",
       "Name: Shape, dtype: int64"
      ]
     },
     "execution_count": 31,
     "metadata": {},
     "output_type": "execute_result"
    }
   ],
   "source": [
    "data['Shape'].value_counts()"
   ]
  },
  {
   "cell_type": "code",
   "execution_count": 32,
   "metadata": {},
   "outputs": [],
   "source": [
    "data['Shape'] = data['Shape'].replace({'Changed':'Changing',\n",
    "                                       'Flare':'Fireball',\n",
    "                                       'Triangular':'Triangle'}, regex=True)"
   ]
  },
  {
   "cell_type": "markdown",
   "metadata": {},
   "source": [
    "There are a lot of Unknown and Other shape categories, let's try to glean some shapes from the report descriptions."
   ]
  },
  {
   "cell_type": "code",
   "execution_count": 33,
   "metadata": {},
   "outputs": [],
   "source": [
    "def shape_category_counter(report, shape_categories):\n",
    "    report = report.lower().split()\n",
    "    cat_count = dict(zip(list(shape_categories), [0] * len(shape_categories)))\n",
    "    for word in report:\n",
    "        if word in shape_categories:\n",
    "            cat_count[word] += 1\n",
    "    cat_count = {k[0].upper()+k[1:]:v for k, v in cat_count.items() if v}\n",
    "    return list(cat_count.keys())"
   ]
  },
  {
   "cell_type": "code",
   "execution_count": 34,
   "metadata": {},
   "outputs": [],
   "source": [
    "shape_categories = [i.lower() for i in data['Shape'].value_counts().index if i not in ['Unknown','Other']]+['orb']"
   ]
  },
  {
   "cell_type": "code",
   "execution_count": 35,
   "metadata": {},
   "outputs": [],
   "source": [
    "data['Shape Categories'] = data['Report'].apply(lambda x: shape_category_counter(x, shape_categories))"
   ]
  },
  {
   "cell_type": "code",
   "execution_count": 36,
   "metadata": {},
   "outputs": [],
   "source": [
    "z = []\n",
    "for x, y in zip(data['Shape'], data['Shape Categories']):\n",
    "    if (x in ['Unknown','Other']) and (y != []):\n",
    "        z.append(y)\n",
    "    elif (x in ['Unknown','Other']) and (y == []):\n",
    "        z.append(y + [x])\n",
    "    elif (x not in ['Unknown','Other']) and (x not in y):\n",
    "        z.append(y + [x])\n",
    "    else:\n",
    "        z.append(y)\n",
    "data['Shape Categories Revised'] = z"
   ]
  },
  {
   "cell_type": "code",
   "execution_count": 37,
   "metadata": {},
   "outputs": [],
   "source": [
    "del data['Shape Categories']"
   ]
  },
  {
   "cell_type": "code",
   "execution_count": 38,
   "metadata": {},
   "outputs": [],
   "source": [
    "data.to_pickle(os.getcwd() + '/data/cleaned_reports_07202018.pkl') #end result, not perfect but much better"
   ]
  }
 ],
 "metadata": {
  "kernelspec": {
   "display_name": "Python 3",
   "language": "python",
   "name": "python3"
  },
  "language_info": {
   "codemirror_mode": {
    "name": "ipython",
    "version": 3
   },
   "file_extension": ".py",
   "mimetype": "text/x-python",
   "name": "python",
   "nbconvert_exporter": "python",
   "pygments_lexer": "ipython3",
   "version": "3.6.6"
  }
 },
 "nbformat": 4,
 "nbformat_minor": 2
}
