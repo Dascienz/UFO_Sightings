{
 "cells": [
  {
   "cell_type": "markdown",
   "metadata": {},
   "source": [
    "# Establishing Association Rules From UFO Sightings"
   ]
  },
  {
   "cell_type": "code",
   "execution_count": 1,
   "metadata": {},
   "outputs": [],
   "source": [
    "import os\n",
    "import sys\n",
    "import numpy as np\n",
    "import pandas as pd\n",
    "import matplotlib.pyplot as plt\n",
    "from sklearn.preprocessing import MultiLabelBinarizer"
   ]
  },
  {
   "cell_type": "code",
   "execution_count": null,
   "metadata": {},
   "outputs": [
    {
     "name": "stdout",
     "output_type": "stream",
     "text": [
      "3.6.6 |Anaconda custom (64-bit)| (default, Jun 28 2018, 11:27:44) [MSC v.1900 64 bit (AMD64)]\n"
     ]
    }
   ],
   "source": [
    "print(sys.version)"
   ]
  },
  {
   "cell_type": "code",
   "execution_count": null,
   "metadata": {},
   "outputs": [],
   "source": [
    "data = pd.read_pickle(os.getcwd() + '/data/cleaned_reports_07202018.pkl')"
   ]
  },
  {
   "cell_type": "code",
   "execution_count": null,
   "metadata": {},
   "outputs": [],
   "source": [
    "df = data[['Shape Categories Revised']].copy()\n",
    "df.columns = ['Shapes']"
   ]
  },
  {
   "cell_type": "code",
   "execution_count": null,
   "metadata": {},
   "outputs": [],
   "source": [
    "df.head()"
   ]
  },
  {
   "cell_type": "code",
   "execution_count": null,
   "metadata": {},
   "outputs": [],
   "source": [
    "binarizer = MultiLabelBinarizer() #class for getting dummies fromm multiple labels\n",
    "df = df[df['Shapes'].str.len() > 1] #we only care about pairs\n",
    "s = df['Shapes'] #we only care about pairs.\n",
    "matrix_df = pd.DataFrame(binarizer.fit_transform(s), columns=binarizer.classes_, index=df.index).reset_index(drop=True)"
   ]
  },
  {
   "cell_type": "code",
   "execution_count": null,
   "metadata": {},
   "outputs": [],
   "source": [
    "matrix_df.head()"
   ]
  },
  {
   "cell_type": "code",
   "execution_count": null,
   "metadata": {},
   "outputs": [],
   "source": [
    "#CALCULATE SUPPORT FOR EACH SHAPE CATEGORY\n",
    "support = {}\n",
    "for shape in matrix_df.columns:\n",
    "    support[shape] = np.sum(matrix_df[shape] > 0)\n",
    "\n",
    "#PLOTTING SUPPORT VALUES\n",
    "fig, ax = plt.subplots(figsize=(20,5))\n",
    "for s in ax.spines: ax.spines[s].set_visible(False)\n",
    "supportSorted = pd.Series(support).sort_values()\n",
    "supportSorted = 100 * supportSorted / supportSorted.sum()\n",
    "supportSorted.plot(kind='bar', width=0.85, fontsize=18, color='tomato',ax=ax)\n",
    "ax.grid(True, alpha=0.25)\n",
    "ax.set_yticklabels(['{:,.0f}%'.format(y) for y in ax.get_yticks()])\n",
    "plt.show()"
   ]
  },
  {
   "cell_type": "markdown",
   "metadata": {},
   "source": [
    "Distribution is tremendously skewed towards 'light'-shaped ufos, so we should drop this to glean more interesting associations. Will drop hexagon column as well due to effectively zero support."
   ]
  },
  {
   "cell_type": "code",
   "execution_count": null,
   "metadata": {},
   "outputs": [],
   "source": [
    "matrix_df = matrix_df.drop(['Light','Hexagon'], axis=1)"
   ]
  },
  {
   "cell_type": "markdown",
   "metadata": {},
   "source": [
    "Need to tally up pairs between shape categories."
   ]
  },
  {
   "cell_type": "code",
   "execution_count": null,
   "metadata": {},
   "outputs": [],
   "source": [
    "matrix = matrix_df.as_matrix()\n",
    "x, y = matrix.shape\n",
    "frequencies = np.zeros((y,y))\n",
    "for i in range(0, y - 1):\n",
    "    for j in range(i + 1, y):\n",
    "        v = matrix[:, i] * matrix[:, j]\n",
    "        frequencies[i, j] = np.sum(v > 0)"
   ]
  },
  {
   "cell_type": "code",
   "execution_count": null,
   "metadata": {},
   "outputs": [],
   "source": [
    "#HEAT MAPPING BY STATE\n",
    "fig, ax = plt.subplots(figsize=(10,10))\n",
    "\n",
    "for spine in ['top','right','bottom','left']: ax.spines[spine].set_visible(False)\n",
    "ax.set_title('UFO Sightings Shape Associations', fontsize=26, fontweight='bold', color='#555555', y=1.05)\n",
    "\n",
    "matrix = frequencies\n",
    "cols = matrix_df.columns\n",
    "rows = matrix_df.columns\n",
    "\n",
    "width = len(cols)\n",
    "height = len(rows)\n",
    "\n",
    "ax.imshow(matrix, alpha=1.0, interpolation='none', aspect='auto', cmap='Greens')\n",
    "\n",
    "# Major ticks\n",
    "ax.set_xticks(np.arange(0, width, 1));\n",
    "ax.set_yticks(np.arange(0, height, 1));\n",
    "\n",
    "# Labels for major ticks\n",
    "ax.set_xticklabels(cols, fontsize=14, color='#555555', rotation=90);\n",
    "ax.set_yticklabels(rows, fontsize=14, color='#555555');\n",
    "\n",
    "# Minor ticks\n",
    "ax.set_xticks(np.arange(-0.5, width, 1), minor=True);\n",
    "ax.set_yticks(np.arange(-0.5, height, 1), minor=True);\n",
    "\n",
    "# Gridlines based on minor ticks\n",
    "ax.grid(which='minor', color='#FFFFFF', linestyle='solid', linewidth=1.8)\n",
    "ax.xaxis.set_ticks_position('none')\n",
    "ax.yaxis.set_ticks_position('none')\n",
    "\n",
    "plt.show()"
   ]
  },
  {
   "cell_type": "code",
   "execution_count": null,
   "metadata": {},
   "outputs": [],
   "source": [
    "def pairs(matrix, minimum):\n",
    "    pair_dict = {}\n",
    "    loc = np.where(matrix > minimum)\n",
    "    x, y = loc[0], loc[1]\n",
    "    for idx, val in enumerate(x):\n",
    "        i, j = x[idx], y[idx]\n",
    "        pair_ = matrix_df.columns[i] + ', ' + matrix_df.columns[j]\n",
    "        pairs = matrix[i, j]\n",
    "        pair_dict[pair_] = pairs\n",
    "    return pair_dict"
   ]
  },
  {
   "cell_type": "code",
   "execution_count": null,
   "metadata": {},
   "outputs": [],
   "source": [
    "pd.Series(pairs(matrix, minimum=500)).sort_values(ascending=False)"
   ]
  },
  {
   "cell_type": "markdown",
   "metadata": {},
   "source": [
    "We have our frequency pairs, now we need to calculate confidence and lift values to determine what rules apply here."
   ]
  }
 ],
 "metadata": {
  "kernelspec": {
   "display_name": "Python 3",
   "language": "python",
   "name": "python3"
  },
  "language_info": {
   "codemirror_mode": {
    "name": "ipython",
    "version": 3
   },
   "file_extension": ".py",
   "mimetype": "text/x-python",
   "name": "python",
   "nbconvert_exporter": "python",
   "pygments_lexer": "ipython3",
   "version": "3.6.6"
  }
 },
 "nbformat": 4,
 "nbformat_minor": 2
}
